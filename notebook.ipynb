{
 "cells": [
  {
   "cell_type": "markdown",
   "metadata": {
    "collapsed": true
   },
   "source": [
    "# Exploring eBay Car Sales Data\n",
    "\n",
    "Whether it's a first-time buyer looking for their first used car or a classic car enthusiast tracking down that rare vintage model, used car sites simplify the shopping experience with detailed, searchable listings, car reviews, buyers guides, and more.  These sites don't just help buyers find cars; they are an excellent resource for car owners to find buyers too.\n",
    "\n",
    "## Data Overview\n",
    "We will work with a dataset of used cars from **eBay Kleinanzeigen**, a [classifieds](https://en.wikipedia.org/wiki/Classified_advertising) section of the German eBay website. The original dataset is not available on kaggle anymore, but you can find it [here](https://data.world/data-society/used-cars-data). \n",
    "\n",
    "Our version of the dataset has been intentionally *dirtied* (the original version was cleaned to make the data easier to work with), with a sample of 50,000 data points from the full dataset *(credits to [DataQuest](https://www.dataquest.io))*.\n",
    "\n",
    "Here is an overview of the columns in the dataset:\n",
    "\n",
    "- `dateCrawled`:- When this ad was first crawled. All field-values are taken from this date.\n",
    "\n",
    "- `name`:- Name of the car.\n",
    "\n",
    "- `seller`:- Whether the seller is private or a dealer.\n",
    "\n",
    "- `offerType`:- The type of listing\n",
    "\n",
    "- `price`:- The price on the ad to sell the car.\n",
    "\n",
    "- `abtest`:- Whether the listing is included in an A/B test.\n",
    "\n",
    "- `vehicleType`:- The vehicle Type.\n",
    "\n",
    "- `yearOfRegistration` - The year in which the car was first registered.\n",
    "\n",
    "- `gearbox`:- The transmission type.\n",
    "\n",
    "- `powerPS`:- The power of the car in PS.\n",
    "\n",
    "- `model`:- The car model name.\n",
    "\n",
    "- `kilometer`:- How many kilometers the car has driven.\n",
    "\n",
    "- `monthOfRegistration`:- The month in which the car was first registered.\n",
    "\n",
    "- `fuelType`:- What type of fuel the car uses.\n",
    "\n",
    "- `brand`:- The brand of the car.\n",
    "\n",
    "- `notRepairedDamage`:- If the car has a damage which is not yet repaired.\n",
    "\n",
    "- `dateCreated`:- The date on which the eBay listing was created.\n",
    "\n",
    "- `nrOfPictures`:- The number of pictures in the ad.\n",
    "\n",
    "- `postalCode`:- The postal code for the location of the vehicle.\n",
    "\n",
    "- `lastSeenOnline`:- When the crawler saw this ad last online.\n",
    "\n",
    "Our goal is to clean the data and analyze the included used car listings.\n",
    "\n",
    "### Importing Useful Libraries\n",
    "\n",
    "Let's start by importing the libraries we need. We will import the `Numpy` library to perform quick, vectorized operations on our data; the `Pandas` library to extend the functionalities of Numpy even further; then some `Plotly` libraries to help us build visualizations."
   ]
  },
  {
   "cell_type": "code",
   "execution_count": 1,
   "metadata": {},
   "outputs": [],
   "source": [
    "import warnings\n",
    "warnings.filterwarnings('ignore')\n",
    "import numpy as np\n",
    "import pandas as pd\n",
    "import plotly.express as px\n",
    "import plotly.graph_objects as go"
   ]
  },
  {
   "cell_type": "markdown",
   "metadata": {},
   "source": [
    "### Basic Data Exploration\n",
    "\n",
    "Next, we will read our dataset into a Pandas dataframe, then explore it further to identify where cleaning would be neccessary."
   ]
  },
  {
   "cell_type": "code",
   "execution_count": 2,
   "metadata": {},
   "outputs": [
    {
     "name": "stdout",
     "output_type": "stream",
     "text": [
      "<class 'pandas.core.frame.DataFrame'>\n",
      "RangeIndex: 50000 entries, 0 to 49999\n",
      "Data columns (total 20 columns):\n",
      " #   Column               Non-Null Count  Dtype \n",
      "---  ------               --------------  ----- \n",
      " 0   dateCrawled          50000 non-null  object\n",
      " 1   name                 50000 non-null  object\n",
      " 2   seller               50000 non-null  object\n",
      " 3   offerType            50000 non-null  object\n",
      " 4   price                50000 non-null  object\n",
      " 5   abtest               50000 non-null  object\n",
      " 6   vehicleType          44905 non-null  object\n",
      " 7   yearOfRegistration   50000 non-null  int64 \n",
      " 8   gearbox              47320 non-null  object\n",
      " 9   powerPS              50000 non-null  int64 \n",
      " 10  model                47242 non-null  object\n",
      " 11  odometer             50000 non-null  object\n",
      " 12  monthOfRegistration  50000 non-null  int64 \n",
      " 13  fuelType             45518 non-null  object\n",
      " 14  brand                50000 non-null  object\n",
      " 15  notRepairedDamage    40171 non-null  object\n",
      " 16  dateCreated          50000 non-null  object\n",
      " 17  nrOfPictures         50000 non-null  int64 \n",
      " 18  postalCode           50000 non-null  int64 \n",
      " 19  lastSeen             50000 non-null  object\n",
      "dtypes: int64(5), object(15)\n",
      "memory usage: 7.6+ MB\n"
     ]
    },
    {
     "data": {
      "text/html": [
       "<div>\n",
       "<style scoped>\n",
       "    .dataframe tbody tr th:only-of-type {\n",
       "        vertical-align: middle;\n",
       "    }\n",
       "\n",
       "    .dataframe tbody tr th {\n",
       "        vertical-align: top;\n",
       "    }\n",
       "\n",
       "    .dataframe thead th {\n",
       "        text-align: right;\n",
       "    }\n",
       "</style>\n",
       "<table border=\"1\" class=\"dataframe\">\n",
       "  <thead>\n",
       "    <tr style=\"text-align: right;\">\n",
       "      <th></th>\n",
       "      <th>dateCrawled</th>\n",
       "      <th>name</th>\n",
       "      <th>seller</th>\n",
       "      <th>offerType</th>\n",
       "      <th>price</th>\n",
       "      <th>abtest</th>\n",
       "      <th>vehicleType</th>\n",
       "      <th>yearOfRegistration</th>\n",
       "      <th>gearbox</th>\n",
       "      <th>powerPS</th>\n",
       "      <th>model</th>\n",
       "      <th>odometer</th>\n",
       "      <th>monthOfRegistration</th>\n",
       "      <th>fuelType</th>\n",
       "      <th>brand</th>\n",
       "      <th>notRepairedDamage</th>\n",
       "      <th>dateCreated</th>\n",
       "      <th>nrOfPictures</th>\n",
       "      <th>postalCode</th>\n",
       "      <th>lastSeen</th>\n",
       "    </tr>\n",
       "  </thead>\n",
       "  <tbody>\n",
       "    <tr>\n",
       "      <th>0</th>\n",
       "      <td>2016-03-26 17:47:46</td>\n",
       "      <td>Peugeot_807_160_NAVTECH_ON_BOARD</td>\n",
       "      <td>privat</td>\n",
       "      <td>Angebot</td>\n",
       "      <td>$5,000</td>\n",
       "      <td>control</td>\n",
       "      <td>bus</td>\n",
       "      <td>2004</td>\n",
       "      <td>manuell</td>\n",
       "      <td>158</td>\n",
       "      <td>andere</td>\n",
       "      <td>150,000km</td>\n",
       "      <td>3</td>\n",
       "      <td>lpg</td>\n",
       "      <td>peugeot</td>\n",
       "      <td>nein</td>\n",
       "      <td>2016-03-26 00:00:00</td>\n",
       "      <td>0</td>\n",
       "      <td>79588</td>\n",
       "      <td>2016-04-06 06:45:54</td>\n",
       "    </tr>\n",
       "    <tr>\n",
       "      <th>1</th>\n",
       "      <td>2016-04-04 13:38:56</td>\n",
       "      <td>BMW_740i_4_4_Liter_HAMANN_UMBAU_Mega_Optik</td>\n",
       "      <td>privat</td>\n",
       "      <td>Angebot</td>\n",
       "      <td>$8,500</td>\n",
       "      <td>control</td>\n",
       "      <td>limousine</td>\n",
       "      <td>1997</td>\n",
       "      <td>automatik</td>\n",
       "      <td>286</td>\n",
       "      <td>7er</td>\n",
       "      <td>150,000km</td>\n",
       "      <td>6</td>\n",
       "      <td>benzin</td>\n",
       "      <td>bmw</td>\n",
       "      <td>nein</td>\n",
       "      <td>2016-04-04 00:00:00</td>\n",
       "      <td>0</td>\n",
       "      <td>71034</td>\n",
       "      <td>2016-04-06 14:45:08</td>\n",
       "    </tr>\n",
       "    <tr>\n",
       "      <th>2</th>\n",
       "      <td>2016-03-26 18:57:24</td>\n",
       "      <td>Volkswagen_Golf_1.6_United</td>\n",
       "      <td>privat</td>\n",
       "      <td>Angebot</td>\n",
       "      <td>$8,990</td>\n",
       "      <td>test</td>\n",
       "      <td>limousine</td>\n",
       "      <td>2009</td>\n",
       "      <td>manuell</td>\n",
       "      <td>102</td>\n",
       "      <td>golf</td>\n",
       "      <td>70,000km</td>\n",
       "      <td>7</td>\n",
       "      <td>benzin</td>\n",
       "      <td>volkswagen</td>\n",
       "      <td>nein</td>\n",
       "      <td>2016-03-26 00:00:00</td>\n",
       "      <td>0</td>\n",
       "      <td>35394</td>\n",
       "      <td>2016-04-06 20:15:37</td>\n",
       "    </tr>\n",
       "    <tr>\n",
       "      <th>3</th>\n",
       "      <td>2016-03-12 16:58:10</td>\n",
       "      <td>Smart_smart_fortwo_coupe_softouch/F1/Klima/Pan...</td>\n",
       "      <td>privat</td>\n",
       "      <td>Angebot</td>\n",
       "      <td>$4,350</td>\n",
       "      <td>control</td>\n",
       "      <td>kleinwagen</td>\n",
       "      <td>2007</td>\n",
       "      <td>automatik</td>\n",
       "      <td>71</td>\n",
       "      <td>fortwo</td>\n",
       "      <td>70,000km</td>\n",
       "      <td>6</td>\n",
       "      <td>benzin</td>\n",
       "      <td>smart</td>\n",
       "      <td>nein</td>\n",
       "      <td>2016-03-12 00:00:00</td>\n",
       "      <td>0</td>\n",
       "      <td>33729</td>\n",
       "      <td>2016-03-15 03:16:28</td>\n",
       "    </tr>\n",
       "    <tr>\n",
       "      <th>4</th>\n",
       "      <td>2016-04-01 14:38:50</td>\n",
       "      <td>Ford_Focus_1_6_Benzin_TÜV_neu_ist_sehr_gepfleg...</td>\n",
       "      <td>privat</td>\n",
       "      <td>Angebot</td>\n",
       "      <td>$1,350</td>\n",
       "      <td>test</td>\n",
       "      <td>kombi</td>\n",
       "      <td>2003</td>\n",
       "      <td>manuell</td>\n",
       "      <td>0</td>\n",
       "      <td>focus</td>\n",
       "      <td>150,000km</td>\n",
       "      <td>7</td>\n",
       "      <td>benzin</td>\n",
       "      <td>ford</td>\n",
       "      <td>nein</td>\n",
       "      <td>2016-04-01 00:00:00</td>\n",
       "      <td>0</td>\n",
       "      <td>39218</td>\n",
       "      <td>2016-04-01 14:38:50</td>\n",
       "    </tr>\n",
       "  </tbody>\n",
       "</table>\n",
       "</div>"
      ],
      "text/plain": [
       "           dateCrawled                                               name  \\\n",
       "0  2016-03-26 17:47:46                   Peugeot_807_160_NAVTECH_ON_BOARD   \n",
       "1  2016-04-04 13:38:56         BMW_740i_4_4_Liter_HAMANN_UMBAU_Mega_Optik   \n",
       "2  2016-03-26 18:57:24                         Volkswagen_Golf_1.6_United   \n",
       "3  2016-03-12 16:58:10  Smart_smart_fortwo_coupe_softouch/F1/Klima/Pan...   \n",
       "4  2016-04-01 14:38:50  Ford_Focus_1_6_Benzin_TÜV_neu_ist_sehr_gepfleg...   \n",
       "\n",
       "   seller offerType   price   abtest vehicleType  yearOfRegistration  \\\n",
       "0  privat   Angebot  $5,000  control         bus                2004   \n",
       "1  privat   Angebot  $8,500  control   limousine                1997   \n",
       "2  privat   Angebot  $8,990     test   limousine                2009   \n",
       "3  privat   Angebot  $4,350  control  kleinwagen                2007   \n",
       "4  privat   Angebot  $1,350     test       kombi                2003   \n",
       "\n",
       "     gearbox  powerPS   model   odometer  monthOfRegistration fuelType  \\\n",
       "0    manuell      158  andere  150,000km                    3      lpg   \n",
       "1  automatik      286     7er  150,000km                    6   benzin   \n",
       "2    manuell      102    golf   70,000km                    7   benzin   \n",
       "3  automatik       71  fortwo   70,000km                    6   benzin   \n",
       "4    manuell        0   focus  150,000km                    7   benzin   \n",
       "\n",
       "        brand notRepairedDamage          dateCreated  nrOfPictures  \\\n",
       "0     peugeot              nein  2016-03-26 00:00:00             0   \n",
       "1         bmw              nein  2016-04-04 00:00:00             0   \n",
       "2  volkswagen              nein  2016-03-26 00:00:00             0   \n",
       "3       smart              nein  2016-03-12 00:00:00             0   \n",
       "4        ford              nein  2016-04-01 00:00:00             0   \n",
       "\n",
       "   postalCode             lastSeen  \n",
       "0       79588  2016-04-06 06:45:54  \n",
       "1       71034  2016-04-06 14:45:08  \n",
       "2       35394  2016-04-06 20:15:37  \n",
       "3       33729  2016-03-15 03:16:28  \n",
       "4       39218  2016-04-01 14:38:50  "
      ]
     },
     "execution_count": 2,
     "metadata": {},
     "output_type": "execute_result"
    }
   ],
   "source": [
    "# Import dataset\n",
    "autos = pd.read_csv('autos.csv', encoding='Latin-1') \n",
    "\n",
    "# Explore dataset\n",
    "autos.info()\n",
    "autos.head()"
   ]
  },
  {
   "cell_type": "markdown",
   "metadata": {},
   "source": [
    "#### Observations\n",
    "\n",
    "- *Our Dataset contains 20 columns and 50,000 rows. Most of the columns contain object or string data, a few columns contain integers.*\n",
    "\n",
    "- *The `price` and `odometer` columns contain numeric values stored as text.* \n",
    "\n",
    "- *We have 5 columns with null values (`vehicleType`, `gearbox`, `model`, `fuelType` and `notRepairedDamage`), although their proportion is significantly low (less than 10% in their respective columns).*\n",
    "\n",
    "- *On closer examination, we'd observe that columns such as `dateCrawled`, `dateCreated` and `lastSeen` are saved as object/string data instead of dates.*\n",
    "\n",
    "- *6 columns have string data recorded in German language. These columns are - `seller`, `offerType`, `vehicleType`, `gear_box`, `fuelType` and `notRepairedDamage`.*\n",
    "\n",
    "- *Rather than Python's preferred snakecase, the column names follow camelcase convention.*\n",
    "\n",
    "Let's explore the column names in a bit more detail:"
   ]
  },
  {
   "cell_type": "code",
   "execution_count": 3,
   "metadata": {},
   "outputs": [
    {
     "data": {
      "text/plain": [
       "Index(['dateCrawled', 'name', 'seller', 'offerType', 'price', 'abtest',\n",
       "       'vehicleType', 'yearOfRegistration', 'gearbox', 'powerPS', 'model',\n",
       "       'odometer', 'monthOfRegistration', 'fuelType', 'brand',\n",
       "       'notRepairedDamage', 'dateCreated', 'nrOfPictures', 'postalCode',\n",
       "       'lastSeen'],\n",
       "      dtype='object')"
      ]
     },
     "execution_count": 3,
     "metadata": {},
     "output_type": "execute_result"
    }
   ],
   "source": [
    "autos.columns"
   ]
  },
  {
   "cell_type": "markdown",
   "metadata": {},
   "source": [
    "## Data Cleaning\n",
    "\n",
    "### Cleaning Column Names\n",
    "\n",
    "We will start by converting the column names from camelcase to snakecase. Next, we will rename some columns to make them more descriptive and easier to work with."
   ]
  },
  {
   "cell_type": "code",
   "execution_count": 4,
   "metadata": {},
   "outputs": [
    {
     "data": {
      "text/html": [
       "<div>\n",
       "<style scoped>\n",
       "    .dataframe tbody tr th:only-of-type {\n",
       "        vertical-align: middle;\n",
       "    }\n",
       "\n",
       "    .dataframe tbody tr th {\n",
       "        vertical-align: top;\n",
       "    }\n",
       "\n",
       "    .dataframe thead th {\n",
       "        text-align: right;\n",
       "    }\n",
       "</style>\n",
       "<table border=\"1\" class=\"dataframe\">\n",
       "  <thead>\n",
       "    <tr style=\"text-align: right;\">\n",
       "      <th></th>\n",
       "      <th>date_crawled</th>\n",
       "      <th>name</th>\n",
       "      <th>seller</th>\n",
       "      <th>offer_type</th>\n",
       "      <th>price</th>\n",
       "      <th>ab_test</th>\n",
       "      <th>vehicle_type</th>\n",
       "      <th>registration_year</th>\n",
       "      <th>gear_box</th>\n",
       "      <th>powerPS</th>\n",
       "      <th>model</th>\n",
       "      <th>odometer</th>\n",
       "      <th>registration_month</th>\n",
       "      <th>fuel_type</th>\n",
       "      <th>brand</th>\n",
       "      <th>unrepaired_damage</th>\n",
       "      <th>ad_created</th>\n",
       "      <th>num_pictures</th>\n",
       "      <th>postal_code</th>\n",
       "      <th>last_seen</th>\n",
       "    </tr>\n",
       "  </thead>\n",
       "  <tbody>\n",
       "    <tr>\n",
       "      <th>0</th>\n",
       "      <td>2016-03-26 17:47:46</td>\n",
       "      <td>Peugeot_807_160_NAVTECH_ON_BOARD</td>\n",
       "      <td>privat</td>\n",
       "      <td>Angebot</td>\n",
       "      <td>$5,000</td>\n",
       "      <td>control</td>\n",
       "      <td>bus</td>\n",
       "      <td>2004</td>\n",
       "      <td>manuell</td>\n",
       "      <td>158</td>\n",
       "      <td>andere</td>\n",
       "      <td>150,000km</td>\n",
       "      <td>3</td>\n",
       "      <td>lpg</td>\n",
       "      <td>peugeot</td>\n",
       "      <td>nein</td>\n",
       "      <td>2016-03-26 00:00:00</td>\n",
       "      <td>0</td>\n",
       "      <td>79588</td>\n",
       "      <td>2016-04-06 06:45:54</td>\n",
       "    </tr>\n",
       "    <tr>\n",
       "      <th>1</th>\n",
       "      <td>2016-04-04 13:38:56</td>\n",
       "      <td>BMW_740i_4_4_Liter_HAMANN_UMBAU_Mega_Optik</td>\n",
       "      <td>privat</td>\n",
       "      <td>Angebot</td>\n",
       "      <td>$8,500</td>\n",
       "      <td>control</td>\n",
       "      <td>limousine</td>\n",
       "      <td>1997</td>\n",
       "      <td>automatik</td>\n",
       "      <td>286</td>\n",
       "      <td>7er</td>\n",
       "      <td>150,000km</td>\n",
       "      <td>6</td>\n",
       "      <td>benzin</td>\n",
       "      <td>bmw</td>\n",
       "      <td>nein</td>\n",
       "      <td>2016-04-04 00:00:00</td>\n",
       "      <td>0</td>\n",
       "      <td>71034</td>\n",
       "      <td>2016-04-06 14:45:08</td>\n",
       "    </tr>\n",
       "    <tr>\n",
       "      <th>2</th>\n",
       "      <td>2016-03-26 18:57:24</td>\n",
       "      <td>Volkswagen_Golf_1.6_United</td>\n",
       "      <td>privat</td>\n",
       "      <td>Angebot</td>\n",
       "      <td>$8,990</td>\n",
       "      <td>test</td>\n",
       "      <td>limousine</td>\n",
       "      <td>2009</td>\n",
       "      <td>manuell</td>\n",
       "      <td>102</td>\n",
       "      <td>golf</td>\n",
       "      <td>70,000km</td>\n",
       "      <td>7</td>\n",
       "      <td>benzin</td>\n",
       "      <td>volkswagen</td>\n",
       "      <td>nein</td>\n",
       "      <td>2016-03-26 00:00:00</td>\n",
       "      <td>0</td>\n",
       "      <td>35394</td>\n",
       "      <td>2016-04-06 20:15:37</td>\n",
       "    </tr>\n",
       "    <tr>\n",
       "      <th>3</th>\n",
       "      <td>2016-03-12 16:58:10</td>\n",
       "      <td>Smart_smart_fortwo_coupe_softouch/F1/Klima/Pan...</td>\n",
       "      <td>privat</td>\n",
       "      <td>Angebot</td>\n",
       "      <td>$4,350</td>\n",
       "      <td>control</td>\n",
       "      <td>kleinwagen</td>\n",
       "      <td>2007</td>\n",
       "      <td>automatik</td>\n",
       "      <td>71</td>\n",
       "      <td>fortwo</td>\n",
       "      <td>70,000km</td>\n",
       "      <td>6</td>\n",
       "      <td>benzin</td>\n",
       "      <td>smart</td>\n",
       "      <td>nein</td>\n",
       "      <td>2016-03-12 00:00:00</td>\n",
       "      <td>0</td>\n",
       "      <td>33729</td>\n",
       "      <td>2016-03-15 03:16:28</td>\n",
       "    </tr>\n",
       "    <tr>\n",
       "      <th>4</th>\n",
       "      <td>2016-04-01 14:38:50</td>\n",
       "      <td>Ford_Focus_1_6_Benzin_TÜV_neu_ist_sehr_gepfleg...</td>\n",
       "      <td>privat</td>\n",
       "      <td>Angebot</td>\n",
       "      <td>$1,350</td>\n",
       "      <td>test</td>\n",
       "      <td>kombi</td>\n",
       "      <td>2003</td>\n",
       "      <td>manuell</td>\n",
       "      <td>0</td>\n",
       "      <td>focus</td>\n",
       "      <td>150,000km</td>\n",
       "      <td>7</td>\n",
       "      <td>benzin</td>\n",
       "      <td>ford</td>\n",
       "      <td>nein</td>\n",
       "      <td>2016-04-01 00:00:00</td>\n",
       "      <td>0</td>\n",
       "      <td>39218</td>\n",
       "      <td>2016-04-01 14:38:50</td>\n",
       "    </tr>\n",
       "  </tbody>\n",
       "</table>\n",
       "</div>"
      ],
      "text/plain": [
       "          date_crawled                                               name  \\\n",
       "0  2016-03-26 17:47:46                   Peugeot_807_160_NAVTECH_ON_BOARD   \n",
       "1  2016-04-04 13:38:56         BMW_740i_4_4_Liter_HAMANN_UMBAU_Mega_Optik   \n",
       "2  2016-03-26 18:57:24                         Volkswagen_Golf_1.6_United   \n",
       "3  2016-03-12 16:58:10  Smart_smart_fortwo_coupe_softouch/F1/Klima/Pan...   \n",
       "4  2016-04-01 14:38:50  Ford_Focus_1_6_Benzin_TÜV_neu_ist_sehr_gepfleg...   \n",
       "\n",
       "   seller offer_type   price  ab_test vehicle_type  registration_year  \\\n",
       "0  privat    Angebot  $5,000  control          bus               2004   \n",
       "1  privat    Angebot  $8,500  control    limousine               1997   \n",
       "2  privat    Angebot  $8,990     test    limousine               2009   \n",
       "3  privat    Angebot  $4,350  control   kleinwagen               2007   \n",
       "4  privat    Angebot  $1,350     test        kombi               2003   \n",
       "\n",
       "    gear_box  powerPS   model   odometer  registration_month fuel_type  \\\n",
       "0    manuell      158  andere  150,000km                   3       lpg   \n",
       "1  automatik      286     7er  150,000km                   6    benzin   \n",
       "2    manuell      102    golf   70,000km                   7    benzin   \n",
       "3  automatik       71  fortwo   70,000km                   6    benzin   \n",
       "4    manuell        0   focus  150,000km                   7    benzin   \n",
       "\n",
       "        brand unrepaired_damage           ad_created  num_pictures  \\\n",
       "0     peugeot              nein  2016-03-26 00:00:00             0   \n",
       "1         bmw              nein  2016-04-04 00:00:00             0   \n",
       "2  volkswagen              nein  2016-03-26 00:00:00             0   \n",
       "3       smart              nein  2016-03-12 00:00:00             0   \n",
       "4        ford              nein  2016-04-01 00:00:00             0   \n",
       "\n",
       "   postal_code            last_seen  \n",
       "0        79588  2016-04-06 06:45:54  \n",
       "1        71034  2016-04-06 14:45:08  \n",
       "2        35394  2016-04-06 20:15:37  \n",
       "3        33729  2016-03-15 03:16:28  \n",
       "4        39218  2016-04-01 14:38:50  "
      ]
     },
     "execution_count": 4,
     "metadata": {},
     "output_type": "execute_result"
    }
   ],
   "source": [
    "autos.columns = ['date_crawled', 'name', 'seller', 'offer_type', 'price', 'ab_test',\n",
    "               'vehicle_type', 'registration_year', 'gear_box', 'powerPS', 'model',\n",
    "               'odometer', 'registration_month', 'fuel_type', 'brand',\n",
    "               'unrepaired_damage', 'ad_created', 'num_pictures', 'postal_code',\n",
    "               'last_seen']\n",
    "autos.head()"
   ]
  },
  {
   "cell_type": "markdown",
   "metadata": {},
   "source": [
    "Let's do some exploration to determine what other cleaning tasks need to be done. We will try to identify:\n",
    "\n",
    "- Text columns where all or almost all values are the same. These can often be dropped as they don't have useful information for analysis.\n",
    "\n",
    "- Data that is not stored in the best format for analysis. They may need to be cleaned, converted or both.\n",
    "\n",
    "We will use the `DataFrame.describe()` method (with the _include='all'_ argument to get information for both categorical and numeric columns). If any columns need us to take a closer look, we will use the `Series.value_counts()` and `Series.head()` to glean more insights."
   ]
  },
  {
   "cell_type": "code",
   "execution_count": 5,
   "metadata": {
    "scrolled": false
   },
   "outputs": [
    {
     "data": {
      "text/html": [
       "<div>\n",
       "<style scoped>\n",
       "    .dataframe tbody tr th:only-of-type {\n",
       "        vertical-align: middle;\n",
       "    }\n",
       "\n",
       "    .dataframe tbody tr th {\n",
       "        vertical-align: top;\n",
       "    }\n",
       "\n",
       "    .dataframe thead th {\n",
       "        text-align: right;\n",
       "    }\n",
       "</style>\n",
       "<table border=\"1\" class=\"dataframe\">\n",
       "  <thead>\n",
       "    <tr style=\"text-align: right;\">\n",
       "      <th></th>\n",
       "      <th>date_crawled</th>\n",
       "      <th>name</th>\n",
       "      <th>seller</th>\n",
       "      <th>offer_type</th>\n",
       "      <th>price</th>\n",
       "      <th>ab_test</th>\n",
       "      <th>vehicle_type</th>\n",
       "      <th>registration_year</th>\n",
       "      <th>gear_box</th>\n",
       "      <th>powerPS</th>\n",
       "      <th>model</th>\n",
       "      <th>odometer</th>\n",
       "      <th>registration_month</th>\n",
       "      <th>fuel_type</th>\n",
       "      <th>brand</th>\n",
       "      <th>unrepaired_damage</th>\n",
       "      <th>ad_created</th>\n",
       "      <th>num_pictures</th>\n",
       "      <th>postal_code</th>\n",
       "      <th>last_seen</th>\n",
       "    </tr>\n",
       "  </thead>\n",
       "  <tbody>\n",
       "    <tr>\n",
       "      <th>count</th>\n",
       "      <td>50000</td>\n",
       "      <td>50000</td>\n",
       "      <td>50000</td>\n",
       "      <td>50000</td>\n",
       "      <td>50000</td>\n",
       "      <td>50000</td>\n",
       "      <td>44905</td>\n",
       "      <td>50000.000000</td>\n",
       "      <td>47320</td>\n",
       "      <td>50000.000000</td>\n",
       "      <td>47242</td>\n",
       "      <td>50000</td>\n",
       "      <td>50000.000000</td>\n",
       "      <td>45518</td>\n",
       "      <td>50000</td>\n",
       "      <td>40171</td>\n",
       "      <td>50000</td>\n",
       "      <td>50000.0</td>\n",
       "      <td>50000.000000</td>\n",
       "      <td>50000</td>\n",
       "    </tr>\n",
       "    <tr>\n",
       "      <th>unique</th>\n",
       "      <td>48213</td>\n",
       "      <td>38754</td>\n",
       "      <td>2</td>\n",
       "      <td>2</td>\n",
       "      <td>2357</td>\n",
       "      <td>2</td>\n",
       "      <td>8</td>\n",
       "      <td>NaN</td>\n",
       "      <td>2</td>\n",
       "      <td>NaN</td>\n",
       "      <td>245</td>\n",
       "      <td>13</td>\n",
       "      <td>NaN</td>\n",
       "      <td>7</td>\n",
       "      <td>40</td>\n",
       "      <td>2</td>\n",
       "      <td>76</td>\n",
       "      <td>NaN</td>\n",
       "      <td>NaN</td>\n",
       "      <td>39481</td>\n",
       "    </tr>\n",
       "    <tr>\n",
       "      <th>top</th>\n",
       "      <td>2016-04-02 11:37:04</td>\n",
       "      <td>Ford_Fiesta</td>\n",
       "      <td>privat</td>\n",
       "      <td>Angebot</td>\n",
       "      <td>$0</td>\n",
       "      <td>test</td>\n",
       "      <td>limousine</td>\n",
       "      <td>NaN</td>\n",
       "      <td>manuell</td>\n",
       "      <td>NaN</td>\n",
       "      <td>golf</td>\n",
       "      <td>150,000km</td>\n",
       "      <td>NaN</td>\n",
       "      <td>benzin</td>\n",
       "      <td>volkswagen</td>\n",
       "      <td>nein</td>\n",
       "      <td>2016-04-03 00:00:00</td>\n",
       "      <td>NaN</td>\n",
       "      <td>NaN</td>\n",
       "      <td>2016-04-07 06:17:27</td>\n",
       "    </tr>\n",
       "    <tr>\n",
       "      <th>freq</th>\n",
       "      <td>3</td>\n",
       "      <td>78</td>\n",
       "      <td>49999</td>\n",
       "      <td>49999</td>\n",
       "      <td>1421</td>\n",
       "      <td>25756</td>\n",
       "      <td>12859</td>\n",
       "      <td>NaN</td>\n",
       "      <td>36993</td>\n",
       "      <td>NaN</td>\n",
       "      <td>4024</td>\n",
       "      <td>32424</td>\n",
       "      <td>NaN</td>\n",
       "      <td>30107</td>\n",
       "      <td>10687</td>\n",
       "      <td>35232</td>\n",
       "      <td>1946</td>\n",
       "      <td>NaN</td>\n",
       "      <td>NaN</td>\n",
       "      <td>8</td>\n",
       "    </tr>\n",
       "    <tr>\n",
       "      <th>mean</th>\n",
       "      <td>NaN</td>\n",
       "      <td>NaN</td>\n",
       "      <td>NaN</td>\n",
       "      <td>NaN</td>\n",
       "      <td>NaN</td>\n",
       "      <td>NaN</td>\n",
       "      <td>NaN</td>\n",
       "      <td>2005.073280</td>\n",
       "      <td>NaN</td>\n",
       "      <td>116.355920</td>\n",
       "      <td>NaN</td>\n",
       "      <td>NaN</td>\n",
       "      <td>5.723360</td>\n",
       "      <td>NaN</td>\n",
       "      <td>NaN</td>\n",
       "      <td>NaN</td>\n",
       "      <td>NaN</td>\n",
       "      <td>0.0</td>\n",
       "      <td>50813.627300</td>\n",
       "      <td>NaN</td>\n",
       "    </tr>\n",
       "    <tr>\n",
       "      <th>std</th>\n",
       "      <td>NaN</td>\n",
       "      <td>NaN</td>\n",
       "      <td>NaN</td>\n",
       "      <td>NaN</td>\n",
       "      <td>NaN</td>\n",
       "      <td>NaN</td>\n",
       "      <td>NaN</td>\n",
       "      <td>105.712813</td>\n",
       "      <td>NaN</td>\n",
       "      <td>209.216627</td>\n",
       "      <td>NaN</td>\n",
       "      <td>NaN</td>\n",
       "      <td>3.711984</td>\n",
       "      <td>NaN</td>\n",
       "      <td>NaN</td>\n",
       "      <td>NaN</td>\n",
       "      <td>NaN</td>\n",
       "      <td>0.0</td>\n",
       "      <td>25779.747957</td>\n",
       "      <td>NaN</td>\n",
       "    </tr>\n",
       "    <tr>\n",
       "      <th>min</th>\n",
       "      <td>NaN</td>\n",
       "      <td>NaN</td>\n",
       "      <td>NaN</td>\n",
       "      <td>NaN</td>\n",
       "      <td>NaN</td>\n",
       "      <td>NaN</td>\n",
       "      <td>NaN</td>\n",
       "      <td>1000.000000</td>\n",
       "      <td>NaN</td>\n",
       "      <td>0.000000</td>\n",
       "      <td>NaN</td>\n",
       "      <td>NaN</td>\n",
       "      <td>0.000000</td>\n",
       "      <td>NaN</td>\n",
       "      <td>NaN</td>\n",
       "      <td>NaN</td>\n",
       "      <td>NaN</td>\n",
       "      <td>0.0</td>\n",
       "      <td>1067.000000</td>\n",
       "      <td>NaN</td>\n",
       "    </tr>\n",
       "    <tr>\n",
       "      <th>25%</th>\n",
       "      <td>NaN</td>\n",
       "      <td>NaN</td>\n",
       "      <td>NaN</td>\n",
       "      <td>NaN</td>\n",
       "      <td>NaN</td>\n",
       "      <td>NaN</td>\n",
       "      <td>NaN</td>\n",
       "      <td>1999.000000</td>\n",
       "      <td>NaN</td>\n",
       "      <td>70.000000</td>\n",
       "      <td>NaN</td>\n",
       "      <td>NaN</td>\n",
       "      <td>3.000000</td>\n",
       "      <td>NaN</td>\n",
       "      <td>NaN</td>\n",
       "      <td>NaN</td>\n",
       "      <td>NaN</td>\n",
       "      <td>0.0</td>\n",
       "      <td>30451.000000</td>\n",
       "      <td>NaN</td>\n",
       "    </tr>\n",
       "    <tr>\n",
       "      <th>50%</th>\n",
       "      <td>NaN</td>\n",
       "      <td>NaN</td>\n",
       "      <td>NaN</td>\n",
       "      <td>NaN</td>\n",
       "      <td>NaN</td>\n",
       "      <td>NaN</td>\n",
       "      <td>NaN</td>\n",
       "      <td>2003.000000</td>\n",
       "      <td>NaN</td>\n",
       "      <td>105.000000</td>\n",
       "      <td>NaN</td>\n",
       "      <td>NaN</td>\n",
       "      <td>6.000000</td>\n",
       "      <td>NaN</td>\n",
       "      <td>NaN</td>\n",
       "      <td>NaN</td>\n",
       "      <td>NaN</td>\n",
       "      <td>0.0</td>\n",
       "      <td>49577.000000</td>\n",
       "      <td>NaN</td>\n",
       "    </tr>\n",
       "    <tr>\n",
       "      <th>75%</th>\n",
       "      <td>NaN</td>\n",
       "      <td>NaN</td>\n",
       "      <td>NaN</td>\n",
       "      <td>NaN</td>\n",
       "      <td>NaN</td>\n",
       "      <td>NaN</td>\n",
       "      <td>NaN</td>\n",
       "      <td>2008.000000</td>\n",
       "      <td>NaN</td>\n",
       "      <td>150.000000</td>\n",
       "      <td>NaN</td>\n",
       "      <td>NaN</td>\n",
       "      <td>9.000000</td>\n",
       "      <td>NaN</td>\n",
       "      <td>NaN</td>\n",
       "      <td>NaN</td>\n",
       "      <td>NaN</td>\n",
       "      <td>0.0</td>\n",
       "      <td>71540.000000</td>\n",
       "      <td>NaN</td>\n",
       "    </tr>\n",
       "    <tr>\n",
       "      <th>max</th>\n",
       "      <td>NaN</td>\n",
       "      <td>NaN</td>\n",
       "      <td>NaN</td>\n",
       "      <td>NaN</td>\n",
       "      <td>NaN</td>\n",
       "      <td>NaN</td>\n",
       "      <td>NaN</td>\n",
       "      <td>9999.000000</td>\n",
       "      <td>NaN</td>\n",
       "      <td>17700.000000</td>\n",
       "      <td>NaN</td>\n",
       "      <td>NaN</td>\n",
       "      <td>12.000000</td>\n",
       "      <td>NaN</td>\n",
       "      <td>NaN</td>\n",
       "      <td>NaN</td>\n",
       "      <td>NaN</td>\n",
       "      <td>0.0</td>\n",
       "      <td>99998.000000</td>\n",
       "      <td>NaN</td>\n",
       "    </tr>\n",
       "  </tbody>\n",
       "</table>\n",
       "</div>"
      ],
      "text/plain": [
       "               date_crawled         name  seller offer_type  price ab_test  \\\n",
       "count                 50000        50000   50000      50000  50000   50000   \n",
       "unique                48213        38754       2          2   2357       2   \n",
       "top     2016-04-02 11:37:04  Ford_Fiesta  privat    Angebot     $0    test   \n",
       "freq                      3           78   49999      49999   1421   25756   \n",
       "mean                    NaN          NaN     NaN        NaN    NaN     NaN   \n",
       "std                     NaN          NaN     NaN        NaN    NaN     NaN   \n",
       "min                     NaN          NaN     NaN        NaN    NaN     NaN   \n",
       "25%                     NaN          NaN     NaN        NaN    NaN     NaN   \n",
       "50%                     NaN          NaN     NaN        NaN    NaN     NaN   \n",
       "75%                     NaN          NaN     NaN        NaN    NaN     NaN   \n",
       "max                     NaN          NaN     NaN        NaN    NaN     NaN   \n",
       "\n",
       "       vehicle_type  registration_year gear_box       powerPS  model  \\\n",
       "count         44905       50000.000000    47320  50000.000000  47242   \n",
       "unique            8                NaN        2           NaN    245   \n",
       "top       limousine                NaN  manuell           NaN   golf   \n",
       "freq          12859                NaN    36993           NaN   4024   \n",
       "mean            NaN        2005.073280      NaN    116.355920    NaN   \n",
       "std             NaN         105.712813      NaN    209.216627    NaN   \n",
       "min             NaN        1000.000000      NaN      0.000000    NaN   \n",
       "25%             NaN        1999.000000      NaN     70.000000    NaN   \n",
       "50%             NaN        2003.000000      NaN    105.000000    NaN   \n",
       "75%             NaN        2008.000000      NaN    150.000000    NaN   \n",
       "max             NaN        9999.000000      NaN  17700.000000    NaN   \n",
       "\n",
       "         odometer  registration_month fuel_type       brand unrepaired_damage  \\\n",
       "count       50000        50000.000000     45518       50000             40171   \n",
       "unique         13                 NaN         7          40                 2   \n",
       "top     150,000km                 NaN    benzin  volkswagen              nein   \n",
       "freq        32424                 NaN     30107       10687             35232   \n",
       "mean          NaN            5.723360       NaN         NaN               NaN   \n",
       "std           NaN            3.711984       NaN         NaN               NaN   \n",
       "min           NaN            0.000000       NaN         NaN               NaN   \n",
       "25%           NaN            3.000000       NaN         NaN               NaN   \n",
       "50%           NaN            6.000000       NaN         NaN               NaN   \n",
       "75%           NaN            9.000000       NaN         NaN               NaN   \n",
       "max           NaN           12.000000       NaN         NaN               NaN   \n",
       "\n",
       "                 ad_created  num_pictures   postal_code            last_seen  \n",
       "count                 50000       50000.0  50000.000000                50000  \n",
       "unique                   76           NaN           NaN                39481  \n",
       "top     2016-04-03 00:00:00           NaN           NaN  2016-04-07 06:17:27  \n",
       "freq                   1946           NaN           NaN                    8  \n",
       "mean                    NaN           0.0  50813.627300                  NaN  \n",
       "std                     NaN           0.0  25779.747957                  NaN  \n",
       "min                     NaN           0.0   1067.000000                  NaN  \n",
       "25%                     NaN           0.0  30451.000000                  NaN  \n",
       "50%                     NaN           0.0  49577.000000                  NaN  \n",
       "75%                     NaN           0.0  71540.000000                  NaN  \n",
       "max                     NaN           0.0  99998.000000                  NaN  "
      ]
     },
     "execution_count": 5,
     "metadata": {},
     "output_type": "execute_result"
    }
   ],
   "source": [
    "autos.describe(include='all')"
   ]
  },
  {
   "cell_type": "markdown",
   "metadata": {},
   "source": [
    "#### Observations\n",
    "\n",
    "*The columns `seller`, `offer_type`, `ab_test`, `gear_box`, and `unrepaired_damage` seem to have only 2 unique values. `num_pictures` contains 50,000 values, but has a mean of 0. That seems unusual!*\n",
    "\n",
    "Let's deal with the columns having 2 unique values:"
   ]
  },
  {
   "cell_type": "code",
   "execution_count": 6,
   "metadata": {},
   "outputs": [
    {
     "name": "stdout",
     "output_type": "stream",
     "text": [
      "------------------------------\n",
      "privat        49999\n",
      "gewerblich        1\n",
      "Name: seller, dtype: int64\n",
      "------------------------------\n",
      "------------------------------\n",
      "Angebot    49999\n",
      "Gesuch         1\n",
      "Name: offer_type, dtype: int64\n",
      "------------------------------\n",
      "------------------------------\n",
      "test       25756\n",
      "control    24244\n",
      "Name: ab_test, dtype: int64\n",
      "------------------------------\n",
      "------------------------------\n",
      "manuell      36993\n",
      "automatik    10327\n",
      "Name: gear_box, dtype: int64\n",
      "------------------------------\n",
      "------------------------------\n",
      "nein    35232\n",
      "ja       4939\n",
      "Name: unrepaired_damage, dtype: int64\n",
      "------------------------------\n"
     ]
    }
   ],
   "source": [
    "# loop through each column and compute the frequency of the unique values\n",
    "\n",
    "for item in ['seller', 'offer_type', 'ab_test', 'gear_box', 'unrepaired_damage']:\n",
    "    print('-'*30)\n",
    "    print(autos[item].value_counts())\n",
    "    print('-'*30)"
   ]
  },
  {
   "cell_type": "markdown",
   "metadata": {},
   "source": [
    "#### Observations\n",
    "\n",
    "*The Seller and offer_type columns are heavily one-sided:*\n",
    "\n",
    "- *From the seller column/series, Privat means 'private' and gewerblick means 'commercial'. This tells us that most records in the dataset were from private sellers.*\n",
    "\n",
    "- *From the offer_type column/series, Angebot stands for 'offer', while gesuch stands for 'request'. This tells us that the dataset majorly contains records from people who offered their car for sale.*\n",
    "\n",
    "These columns are far too one-sided to add useful information to our analysis. We will drop these columns, but first, lets explore the `num_pictures` column:"
   ]
  },
  {
   "cell_type": "code",
   "execution_count": 7,
   "metadata": {},
   "outputs": [
    {
     "data": {
      "text/plain": [
       "0    50000\n",
       "Name: num_pictures, dtype: int64"
      ]
     },
     "execution_count": 7,
     "metadata": {},
     "output_type": "execute_result"
    }
   ],
   "source": [
    "autos['num_pictures'].value_counts()"
   ]
  },
  {
   "cell_type": "markdown",
   "metadata": {},
   "source": [
    "With all data for `num_pictures` being 0, It appears that none of the listings contain any pictures. We will drop this column along with `seller` and `offer_type`"
   ]
  },
  {
   "cell_type": "code",
   "execution_count": 8,
   "metadata": {},
   "outputs": [
    {
     "name": "stdout",
     "output_type": "stream",
     "text": [
      "(50000, 20)\n",
      "(50000, 17)\n"
     ]
    }
   ],
   "source": [
    "print(autos.shape)\n",
    "autos = autos.drop(['seller', 'offer_type', 'num_pictures'], axis=1)\n",
    "print(autos.shape)"
   ]
  },
  {
   "cell_type": "markdown",
   "metadata": {},
   "source": [
    "### Cleaning Non English Columns\n",
    "\n",
    "In the previous observation, we had to manually interpret the meaning of the terms in the `seller` and `offer_type` columns. Repeating this process for all affected columns will be cumbersome in the long run. \n",
    "\n",
    "There are six columns recorded in German. However, we have already dropped two of the affected columns. We will now explore the other four in more detail:"
   ]
  },
  {
   "cell_type": "code",
   "execution_count": 9,
   "metadata": {},
   "outputs": [
    {
     "name": "stdout",
     "output_type": "stream",
     "text": [
      "\n",
      "['bus' 'limousine' 'kleinwagen' 'kombi' nan 'coupe' 'suv' 'cabrio'\n",
      " 'andere']\n",
      "\n",
      "['manuell' 'automatik' nan]\n",
      "\n",
      "['lpg' 'benzin' 'diesel' nan 'cng' 'hybrid' 'elektro' 'andere']\n",
      "\n",
      "['nein' nan 'ja']\n"
     ]
    }
   ],
   "source": [
    "german_columns = ['vehicle_type', 'gear_box','fuel_type', 'unrepaired_damage']\n",
    "\n",
    "# print the unique german words in each column of interest\n",
    "for column in german_columns:\n",
    "    print('')\n",
    "    print(autos[column].unique())"
   ]
  },
  {
   "cell_type": "markdown",
   "metadata": {},
   "source": [
    "We can use this information to build a dictionary of translations for each German word. Then, we will define a function `convert_language()` that will iterate through each of the affected columns and translate their values using records from the dictionary. The `series.map()` method will handle the translation process for us:"
   ]
  },
  {
   "cell_type": "code",
   "execution_count": 10,
   "metadata": {},
   "outputs": [],
   "source": [
    "# translator function\n",
    "def translate_column(df,column,value_dict):\n",
    "    '''translates values in df column using value_dict as reference'''\n",
    "    df[column] = df[column].map(value_dict)\n",
    "\n",
    "\n",
    "# A dictionary of translations\n",
    "translations ={# vehicle type terms\n",
    "               'bus':'bus',\n",
    "               'limousine':'limousine',\n",
    "               'kleinwagen': 'small car',\n",
    "               'kombi': 'combo',\n",
    "               'coupe':'coupe',\n",
    "               'suv':'suv',\n",
    "               'cabrio': 'cabrio',\n",
    "               'andere': 'other',\n",
    "               'cabrio': 'convertible',\n",
    "               # gear box terms\n",
    "               'manuell': 'manual',\n",
    "               'automatik': 'automatic',\n",
    "               # fuel type terms\n",
    "               'lpg':'lpg',\n",
    "               'benzin': 'gasoline',\n",
    "               'diesel':'diesel',\n",
    "               'cng':'natural gas',\n",
    "               'hybrid':'hybrid',\n",
    "               'elektro':'electric',\n",
    "               'andere':'other',\n",
    "               # unrepaired damage terms\n",
    "               'nein':'no',\n",
    "               'ja':'yes'       \n",
    "}"
   ]
  },
  {
   "cell_type": "markdown",
   "metadata": {},
   "source": [
    "Let's clean each of these columns. We will also print out the value counts before and after translating to ensure that the process ran adequately, without compromising our data:"
   ]
  },
  {
   "cell_type": "code",
   "execution_count": 11,
   "metadata": {},
   "outputs": [
    {
     "name": "stdout",
     "output_type": "stream",
     "text": [
      "BEFORE TRANSLATING \n",
      "\n",
      "limousine     12859\n",
      "kleinwagen    10822\n",
      "kombi          9127\n",
      "NaN            5095\n",
      "bus            4093\n",
      "cabrio         3061\n",
      "coupe          2537\n",
      "suv            1986\n",
      "andere          420\n",
      "Name: vehicle_type, dtype: int64\n",
      "\n",
      " TRANSLATING WORDS...\n",
      "------------------------------\n",
      "limousine      12859\n",
      "small car      10822\n",
      "combo           9127\n",
      "NaN             5095\n",
      "bus             4093\n",
      "convertible     3061\n",
      "coupe           2537\n",
      "suv             1986\n",
      "other            420\n",
      "Name: vehicle_type, dtype: int64\n",
      "------------------------------\n",
      "------------------------------\n",
      "BEFORE TRANSLATING \n",
      "\n",
      "manuell      36993\n",
      "automatik    10327\n",
      "NaN           2680\n",
      "Name: gear_box, dtype: int64\n",
      "\n",
      " TRANSLATING WORDS...\n",
      "------------------------------\n",
      "manual       36993\n",
      "automatic    10327\n",
      "NaN           2680\n",
      "Name: gear_box, dtype: int64\n",
      "------------------------------\n",
      "------------------------------\n",
      "BEFORE TRANSLATING \n",
      "\n",
      "benzin     30107\n",
      "diesel     14567\n",
      "NaN         4482\n",
      "lpg          691\n",
      "cng           75\n",
      "hybrid        37\n",
      "andere        22\n",
      "elektro       19\n",
      "Name: fuel_type, dtype: int64\n",
      "\n",
      " TRANSLATING WORDS...\n",
      "------------------------------\n",
      "gasoline       30107\n",
      "diesel         14567\n",
      "NaN             4482\n",
      "lpg              691\n",
      "natural gas       75\n",
      "hybrid            37\n",
      "other             22\n",
      "electric          19\n",
      "Name: fuel_type, dtype: int64\n",
      "------------------------------\n",
      "------------------------------\n",
      "BEFORE TRANSLATING \n",
      "\n",
      "nein    35232\n",
      "NaN      9829\n",
      "ja       4939\n",
      "Name: unrepaired_damage, dtype: int64\n",
      "\n",
      " TRANSLATING WORDS...\n",
      "------------------------------\n",
      "no     35232\n",
      "NaN     9829\n",
      "yes     4939\n",
      "Name: unrepaired_damage, dtype: int64\n",
      "------------------------------\n",
      "------------------------------\n"
     ]
    }
   ],
   "source": [
    "for item in german_columns:\n",
    "    print('BEFORE TRANSLATING', '\\n')\n",
    "    \n",
    "    print(autos[item].value_counts(dropna=False))\n",
    "    \n",
    "    print('\\n', 'TRANSLATING WORDS...')\n",
    "    print('-'*30)\n",
    "    \n",
    "    translate_column(autos, item, translations)\n",
    "    print(autos[item].value_counts(dropna=False))\n",
    "    \n",
    "    print('-'*30)\n",
    "    print('-'*30)"
   ]
  },
  {
   "cell_type": "markdown",
   "metadata": {},
   "source": [
    "#### Observations\n",
    "- *The German words have been converted to English, and the value counts remained the same after the translation. We can conclude that the translation was executed correctly without compromising our data.*\n",
    "\n",
    "### Assigning the Right Data Types\n",
    "\n",
    "We previously identified some object types that should have been saved as numeric; like the `price` and `odometer` columns. For each of these columns, we will remove the non-numeric characters, convert the column to a numeric data type, then use the `DataFrame.rename()` method to assign descriptive names.\n",
    "\n",
    "The `price` columns has both the `','` and `'$'` non-numeric characters. The odometer column has `','` and `'km'` as its non-numeric characters."
   ]
  },
  {
   "cell_type": "code",
   "execution_count": 12,
   "metadata": {},
   "outputs": [
    {
     "data": {
      "text/plain": [
       "0    5000\n",
       "1    8500\n",
       "2    8990\n",
       "3    4350\n",
       "4    1350\n",
       "5    7900\n",
       "6     300\n",
       "7    1990\n",
       "8     250\n",
       "9     590\n",
       "Name: usd_price, dtype: int64"
      ]
     },
     "execution_count": 12,
     "metadata": {},
     "output_type": "execute_result"
    }
   ],
   "source": [
    "autos['price'] = (autos['price']\n",
    "                      .str.replace(',', '')\n",
    "                      .str.replace('$','')\n",
    "                      .astype(int)\n",
    "                 )\n",
    "\n",
    "autos.rename({'price':'usd_price'}, inplace=True, axis=1)\n",
    "autos['usd_price'].head(10)"
   ]
  },
  {
   "cell_type": "code",
   "execution_count": 13,
   "metadata": {},
   "outputs": [
    {
     "data": {
      "text/plain": [
       "0    150000\n",
       "1    150000\n",
       "2     70000\n",
       "3     70000\n",
       "4    150000\n",
       "5    150000\n",
       "6    150000\n",
       "7    150000\n",
       "8    150000\n",
       "9    150000\n",
       "Name: odometer_km, dtype: int64"
      ]
     },
     "execution_count": 13,
     "metadata": {},
     "output_type": "execute_result"
    }
   ],
   "source": [
    "autos['odometer'] = (autos['odometer']\n",
    "                         .str.replace('km', '')\n",
    "                         .str.replace(',','')\n",
    "                         .astype(int)\n",
    "                    )\n",
    "\n",
    "autos.rename({'odometer':'odometer_km'}, inplace=True, axis=1)\n",
    "autos['odometer_km'].head(10)"
   ]
  },
  {
   "cell_type": "markdown",
   "metadata": {},
   "source": [
    "### Exploring the Odometer and Price Columns\n",
    "\n",
    "Let's continue by exploring the data for outliers. Specifically we are looking for data that doesn't look right, especially in our numeric columns (`odometer_km` and `usd_price`). We will analyze these columns using minimum and maximum values and look for any values that look unrealistically high or low."
   ]
  },
  {
   "cell_type": "code",
   "execution_count": 14,
   "metadata": {},
   "outputs": [
    {
     "data": {
      "text/html": [
       "<div>\n",
       "<style scoped>\n",
       "    .dataframe tbody tr th:only-of-type {\n",
       "        vertical-align: middle;\n",
       "    }\n",
       "\n",
       "    .dataframe tbody tr th {\n",
       "        vertical-align: top;\n",
       "    }\n",
       "\n",
       "    .dataframe thead th {\n",
       "        text-align: right;\n",
       "    }\n",
       "</style>\n",
       "<table border=\"1\" class=\"dataframe\">\n",
       "  <thead>\n",
       "    <tr style=\"text-align: right;\">\n",
       "      <th></th>\n",
       "      <th>odometer_km</th>\n",
       "      <th>usd_price</th>\n",
       "    </tr>\n",
       "  </thead>\n",
       "  <tbody>\n",
       "    <tr>\n",
       "      <th>count</th>\n",
       "      <td>50000.000000</td>\n",
       "      <td>5.000000e+04</td>\n",
       "    </tr>\n",
       "    <tr>\n",
       "      <th>mean</th>\n",
       "      <td>125732.700000</td>\n",
       "      <td>9.840044e+03</td>\n",
       "    </tr>\n",
       "    <tr>\n",
       "      <th>std</th>\n",
       "      <td>40042.211706</td>\n",
       "      <td>4.811044e+05</td>\n",
       "    </tr>\n",
       "    <tr>\n",
       "      <th>min</th>\n",
       "      <td>5000.000000</td>\n",
       "      <td>0.000000e+00</td>\n",
       "    </tr>\n",
       "    <tr>\n",
       "      <th>25%</th>\n",
       "      <td>125000.000000</td>\n",
       "      <td>1.100000e+03</td>\n",
       "    </tr>\n",
       "    <tr>\n",
       "      <th>50%</th>\n",
       "      <td>150000.000000</td>\n",
       "      <td>2.950000e+03</td>\n",
       "    </tr>\n",
       "    <tr>\n",
       "      <th>75%</th>\n",
       "      <td>150000.000000</td>\n",
       "      <td>7.200000e+03</td>\n",
       "    </tr>\n",
       "    <tr>\n",
       "      <th>max</th>\n",
       "      <td>150000.000000</td>\n",
       "      <td>1.000000e+08</td>\n",
       "    </tr>\n",
       "  </tbody>\n",
       "</table>\n",
       "</div>"
      ],
      "text/plain": [
       "         odometer_km     usd_price\n",
       "count   50000.000000  5.000000e+04\n",
       "mean   125732.700000  9.840044e+03\n",
       "std     40042.211706  4.811044e+05\n",
       "min      5000.000000  0.000000e+00\n",
       "25%    125000.000000  1.100000e+03\n",
       "50%    150000.000000  2.950000e+03\n",
       "75%    150000.000000  7.200000e+03\n",
       "max    150000.000000  1.000000e+08"
      ]
     },
     "execution_count": 14,
     "metadata": {},
     "output_type": "execute_result"
    }
   ],
   "source": [
    "autos[['odometer_km', 'usd_price']].describe()"
   ]
  },
  {
   "cell_type": "markdown",
   "metadata": {},
   "source": [
    "#### Observations\n",
    "\n",
    "- *The median and 75th percentile value in the `odometer_km` column share the same amount as the max value of 150,000km. The 25th percentile is set at approximately 125,000km. All these indicates that majority (over 75%) of the cars listed are high mileage cars between 125,000 to 150,000km.*\n",
    "\n",
    "- *The `usd_price` column has a maximum value of 100 million USD. This varies significantly from the median and 75th percentile values of 2,950 and 7,200 USD respectively. Ths standard deviation here is considerably high (about 480,000 USD). We can also notice the minimum price of 0 which can also affect our analysis.* \n",
    "\n",
    "We can further explore `odometer_km` by displaying its sorted value counts:"
   ]
  },
  {
   "cell_type": "code",
   "execution_count": 15,
   "metadata": {},
   "outputs": [
    {
     "data": {
      "text/plain": [
       "150000    32424\n",
       "125000     5170\n",
       "100000     2169\n",
       "90000      1757\n",
       "80000      1436\n",
       "70000      1230\n",
       "60000      1164\n",
       "50000      1027\n",
       "40000       819\n",
       "30000       789\n",
       "20000       784\n",
       "10000       264\n",
       "5000        967\n",
       "Name: odometer_km, dtype: int64"
      ]
     },
     "execution_count": 15,
     "metadata": {},
     "output_type": "execute_result"
    }
   ],
   "source": [
    "autos['odometer_km'].value_counts().sort_index(ascending=False)"
   ]
  },
  {
   "cell_type": "markdown",
   "metadata": {},
   "source": [
    "#### Additional Observations\n",
    "\n",
    "- *The least mileage observed is 5000km rather than 0km. This is expected because the cars listed on this platform are used cars.*\n",
    "- *Higher Mileage cars are more common on the listing than lower mileage ones.*\n",
    "- *Of the 50,000 cars in our dataset, there are over 30,000 (~65%) cars that have odometer readings of 150,000. This could imply that there is an upper mileage limit of 150,000km for cars accepted for listing.*\n",
    "\n",
    "Next, we will explore `usd_price` and attempt to remove its outliers:"
   ]
  },
  {
   "cell_type": "code",
   "execution_count": 16,
   "metadata": {},
   "outputs": [
    {
     "data": {
      "text/plain": [
       "count    5.000000e+04\n",
       "mean     9.840044e+03\n",
       "std      4.811044e+05\n",
       "min      0.000000e+00\n",
       "25%      1.100000e+03\n",
       "50%      2.950000e+03\n",
       "75%      7.200000e+03\n",
       "max      1.000000e+08\n",
       "Name: usd_price, dtype: float64"
      ]
     },
     "execution_count": 16,
     "metadata": {},
     "output_type": "execute_result"
    }
   ],
   "source": [
    "autos['usd_price'].describe()"
   ]
  },
  {
   "cell_type": "markdown",
   "metadata": {},
   "source": [
    "### Defining Price Outliers\n",
    "\n",
    "Like we had observed earlier, the `25th`, `50th` and `75th` percentile of the prices are `1,100`, `2,950` and `7,200` USD respectively. We will an outlier detection method that helps us create a “fence” boundary from our 25th and 75th percentiles. Any data beyond these fences will be considered to be outliers\n",
    "\n",
    "With the information we have gathered, we can calculate our interquartile range `IQR`, which helps us define the upper and lower limits for the list prices to use in our analysis.\n",
    "\n",
    "```\n",
    "    Interquartile Range (IQR) = 75th Percentile - 25th Percentile\n",
    "    Lower Limit = 25th Percentile - 1.5(IQR)\n",
    "    Upper Limit = 75th Percentile + 1.5(IQR)\n",
    "    \n",
    "```\n",
    "Lets define all these boundaries in the code cell below:"
   ]
  },
  {
   "cell_type": "code",
   "execution_count": 17,
   "metadata": {},
   "outputs": [
    {
     "name": "stdout",
     "output_type": "stream",
     "text": [
      "Interquartile Range:  6100\n",
      "Lower Limit:  -8050.0\n",
      "Upper Limit:  16350.0\n"
     ]
    }
   ],
   "source": [
    "price_25th, price_75th = (1100, 7200)\n",
    "\n",
    "IQR = price_75th - price_25th\n",
    "lower_limit = price_25th - (1.5*IQR)\n",
    "upper_limit = price_75th + (1.5*IQR)\n",
    "\n",
    "print('Interquartile Range: ', IQR)\n",
    "print('Lower Limit: ', lower_limit)\n",
    "print('Upper Limit: ', upper_limit)"
   ]
  },
  {
   "cell_type": "markdown",
   "metadata": {},
   "source": [
    "Since limits usually extend beyond the data sometimes, it is totally fine if our lower limit is negative. We had noticed earlier that the minimum price value of `0` could also affect our analysis. Hoewer, before we attempt to eliminate the entries with zero prices, we will take a look at how many data points we have with zero prices using the `.value_counts()` method"
   ]
  },
  {
   "cell_type": "code",
   "execution_count": 18,
   "metadata": {},
   "outputs": [
    {
     "data": {
      "text/plain": [
       "0       1421\n",
       "500      781\n",
       "1500     734\n",
       "2500     643\n",
       "1000     639\n",
       "Name: usd_price, dtype: int64"
      ]
     },
     "execution_count": 18,
     "metadata": {},
     "output_type": "execute_result"
    }
   ],
   "source": [
    "autos['usd_price'].value_counts().head()"
   ]
  },
  {
   "cell_type": "markdown",
   "metadata": {},
   "source": [
    "Of the 50,000 rows in our dataset, 1,421 records `(3%)` are listed at zero price. Since this percentage is very low, we can safely remove these entries from our data. To make things easier we will also set our lower_limit to `1` in order to also exclude zero values:"
   ]
  },
  {
   "cell_type": "code",
   "execution_count": 19,
   "metadata": {},
   "outputs": [
    {
     "data": {
      "text/plain": [
       "count    44795.000000\n",
       "mean      4089.433620\n",
       "std       3841.429247\n",
       "min          1.000000\n",
       "25%       1150.000000\n",
       "50%       2700.000000\n",
       "75%       5999.000000\n",
       "max      16350.000000\n",
       "Name: usd_price, dtype: float64"
      ]
     },
     "execution_count": 19,
     "metadata": {},
     "output_type": "execute_result"
    }
   ],
   "source": [
    "autos = autos[autos['usd_price'].between(1, upper_limit)]\n",
    "\n",
    "autos['usd_price'].describe()"
   ]
  },
  {
   "cell_type": "markdown",
   "metadata": {},
   "source": [
    "#### Observations\n",
    "\n",
    "- *Our dataset has been reduced to 44,795 rows in total. The 25th, 50th and 75th percentiles are still closer to their initial values before cleaning and we have been able to obtain a better approximation of the maximum price (16,350 USD) that we can use for our analysis.*\n",
    "\n",
    "Let's now explore the date columns to understand the date range our data covers\n",
    "\n",
    "### Exploring the Date Columns\n",
    "\n",
    "There are 5 columns in our dataset that should represent date values. Some of these columns were created by the crawler, some came from the website itself. We can differentiate by referring to the information below:\n",
    "\n",
    "```\n",
    "- `date_crawled` was added by the crawler\n",
    "- `last_seen` was added by the crawler\n",
    "- `ad_created` was obtained from the website\n",
    "- `registration_month` was obtained from the website\n",
    "- `registration_year` was obtained from the website\n",
    "\n",
    "```\n",
    "\n",
    "Like we observed earlier, `the date_crawled`, `last_seen`, and `ad_created` columns are currently identified as string/object types by pandas. We need to convert them into `datetime` objects so we can understand them quantitatively. `registration_month` and `registration_year` are represented as numeric values, so we can use methods like `Series.describe()` to understand the distribution without any data type conversion.\n",
    "\n",
    "Let's first understand how the values in the three string columns are formatted. These columns all represent full timestamp values:"
   ]
  },
  {
   "cell_type": "code",
   "execution_count": 20,
   "metadata": {},
   "outputs": [
    {
     "data": {
      "text/html": [
       "<div>\n",
       "<style scoped>\n",
       "    .dataframe tbody tr th:only-of-type {\n",
       "        vertical-align: middle;\n",
       "    }\n",
       "\n",
       "    .dataframe tbody tr th {\n",
       "        vertical-align: top;\n",
       "    }\n",
       "\n",
       "    .dataframe thead th {\n",
       "        text-align: right;\n",
       "    }\n",
       "</style>\n",
       "<table border=\"1\" class=\"dataframe\">\n",
       "  <thead>\n",
       "    <tr style=\"text-align: right;\">\n",
       "      <th></th>\n",
       "      <th>date_crawled</th>\n",
       "      <th>ad_created</th>\n",
       "      <th>last_seen</th>\n",
       "    </tr>\n",
       "  </thead>\n",
       "  <tbody>\n",
       "    <tr>\n",
       "      <th>0</th>\n",
       "      <td>2016-03-26 17:47:46</td>\n",
       "      <td>2016-03-26 00:00:00</td>\n",
       "      <td>2016-04-06 06:45:54</td>\n",
       "    </tr>\n",
       "    <tr>\n",
       "      <th>1</th>\n",
       "      <td>2016-04-04 13:38:56</td>\n",
       "      <td>2016-04-04 00:00:00</td>\n",
       "      <td>2016-04-06 14:45:08</td>\n",
       "    </tr>\n",
       "    <tr>\n",
       "      <th>2</th>\n",
       "      <td>2016-03-26 18:57:24</td>\n",
       "      <td>2016-03-26 00:00:00</td>\n",
       "      <td>2016-04-06 20:15:37</td>\n",
       "    </tr>\n",
       "    <tr>\n",
       "      <th>3</th>\n",
       "      <td>2016-03-12 16:58:10</td>\n",
       "      <td>2016-03-12 00:00:00</td>\n",
       "      <td>2016-03-15 03:16:28</td>\n",
       "    </tr>\n",
       "    <tr>\n",
       "      <th>4</th>\n",
       "      <td>2016-04-01 14:38:50</td>\n",
       "      <td>2016-04-01 00:00:00</td>\n",
       "      <td>2016-04-01 14:38:50</td>\n",
       "    </tr>\n",
       "  </tbody>\n",
       "</table>\n",
       "</div>"
      ],
      "text/plain": [
       "          date_crawled           ad_created            last_seen\n",
       "0  2016-03-26 17:47:46  2016-03-26 00:00:00  2016-04-06 06:45:54\n",
       "1  2016-04-04 13:38:56  2016-04-04 00:00:00  2016-04-06 14:45:08\n",
       "2  2016-03-26 18:57:24  2016-03-26 00:00:00  2016-04-06 20:15:37\n",
       "3  2016-03-12 16:58:10  2016-03-12 00:00:00  2016-03-15 03:16:28\n",
       "4  2016-04-01 14:38:50  2016-04-01 00:00:00  2016-04-01 14:38:50"
      ]
     },
     "execution_count": 20,
     "metadata": {},
     "output_type": "execute_result"
    }
   ],
   "source": [
    "autos[['date_crawled', 'ad_created', 'last_seen']].head()"
   ]
  },
  {
   "cell_type": "markdown",
   "metadata": {},
   "source": [
    "#### Observations\n",
    "\n",
    "- *It appears that the first 10 characters in each column represent the date in the yy-mm-dd format (e.g. 2016-03-12)*\n",
    "\n",
    "To understand the distribution of the date ranges better, we can extract just the date values using a string method, use `Series.value_counts()` to generate a distribution, then sort by the index (which are the extracted dates in this case).\n",
    "\n",
    "To select the first 10 characters in each column, we can use `Series.str[:10]`:\n",
    "\n",
    "### 1. Date Crawled"
   ]
  },
  {
   "cell_type": "code",
   "execution_count": 21,
   "metadata": {
    "scrolled": false
   },
   "outputs": [
    {
     "name": "stdout",
     "output_type": "stream",
     "text": [
      "34\n"
     ]
    },
    {
     "data": {
      "text/plain": [
       "2016-03-05    0.025516\n",
       "2016-03-06    0.013997\n",
       "2016-03-07    0.036098\n",
       "2016-03-08    0.033642\n",
       "2016-03-09    0.033129\n",
       "2016-03-10    0.032705\n",
       "2016-03-11    0.032481\n",
       "2016-03-12    0.037393\n",
       "2016-03-13    0.015604\n",
       "2016-03-14    0.036991\n",
       "2016-03-15    0.034178\n",
       "2016-03-16    0.029959\n",
       "2016-03-17    0.031990\n",
       "2016-03-18    0.012769\n",
       "2016-03-19    0.034200\n",
       "2016-03-20    0.037705\n",
       "2016-03-21    0.037192\n",
       "2016-03-22    0.032727\n",
       "2016-03-23    0.032481\n",
       "2016-03-24    0.029378\n",
       "2016-03-25    0.032013\n",
       "2016-03-26    0.032593\n",
       "2016-03-27    0.030718\n",
       "2016-03-28    0.034781\n",
       "2016-03-29    0.034200\n",
       "2016-03-30    0.033865\n",
       "2016-03-31    0.031588\n",
       "2016-04-01    0.032794\n",
       "2016-04-02    0.034982\n",
       "2016-04-03    0.038531\n",
       "2016-04-04    0.036366\n",
       "2016-04-05    0.012948\n",
       "2016-04-06    0.003170\n",
       "2016-04-07    0.001317\n",
       "Name: date_crawled, dtype: float64"
      ]
     },
     "execution_count": 21,
     "metadata": {},
     "output_type": "execute_result"
    }
   ],
   "source": [
    "print(autos['date_crawled'].str[:10].unique().size)\n",
    "\n",
    "(autos['date_crawled']\n",
    "     .str[:10]\n",
    "     .value_counts(normalize=True, dropna=False)\n",
    "     .sort_index()\n",
    ")"
   ]
  },
  {
   "cell_type": "markdown",
   "metadata": {},
   "source": [
    "#### Observations\n",
    "- *It appears the crawler collected information from the site everyday between March 5, 2016 and April 7, 2016, a period of 34 days. The number of listings crawled per day seems evenly distributed too.*\n",
    "\n",
    "### 2. Ad Created"
   ]
  },
  {
   "cell_type": "code",
   "execution_count": 22,
   "metadata": {},
   "outputs": [
    {
     "name": "stdout",
     "output_type": "stream",
     "text": [
      "73\n"
     ]
    },
    {
     "data": {
      "text/plain": [
       "2015-08-10    0.000022\n",
       "2015-09-09    0.000022\n",
       "2015-11-10    0.000022\n",
       "2015-12-05    0.000022\n",
       "2015-12-30    0.000022\n",
       "                ...   \n",
       "2016-04-03    0.038799\n",
       "2016-04-04    0.036701\n",
       "2016-04-05    0.011653\n",
       "2016-04-06    0.003237\n",
       "2016-04-07    0.001183\n",
       "Name: ad_created, Length: 73, dtype: float64"
      ]
     },
     "execution_count": 22,
     "metadata": {},
     "output_type": "execute_result"
    }
   ],
   "source": [
    "print(autos['ad_created'].str[:10].unique().size)\n",
    "\n",
    "(autos['ad_created']\n",
    "     .str[:10]\n",
    "     .value_counts(normalize=True, dropna=False)\n",
    "     .sort_index()\n",
    ")"
   ]
  },
  {
   "cell_type": "markdown",
   "metadata": {},
   "source": [
    "explanations?\n",
    "\n",
    "### 3. Last Seen"
   ]
  },
  {
   "cell_type": "code",
   "execution_count": 23,
   "metadata": {},
   "outputs": [
    {
     "data": {
      "text/plain": [
       "2016-03-05    0.001161\n",
       "2016-03-06    0.004576\n",
       "2016-03-07    0.005693\n",
       "2016-03-08    0.007903\n",
       "2016-03-09    0.010068\n",
       "2016-03-10    0.011162\n",
       "2016-03-11    0.013037\n",
       "2016-03-12    0.024936\n",
       "2016-03-13    0.009376\n",
       "2016-03-14    0.012859\n",
       "2016-03-15    0.016274\n",
       "2016-03-16    0.016966\n",
       "2016-03-17    0.029043\n",
       "2016-03-18    0.007568\n",
       "2016-03-19    0.016475\n",
       "2016-03-20    0.021230\n",
       "2016-03-21    0.021185\n",
       "2016-03-22    0.021922\n",
       "2016-03-23    0.019109\n",
       "2016-03-24    0.020449\n",
       "2016-03-25    0.020002\n",
       "2016-03-26    0.017234\n",
       "2016-03-27    0.016207\n",
       "2016-03-28    0.021699\n",
       "2016-03-29    0.023016\n",
       "2016-03-30    0.025472\n",
       "2016-03-31    0.024333\n",
       "2016-04-01    0.023306\n",
       "2016-04-02    0.025226\n",
       "2016-04-03    0.025673\n",
       "2016-04-04    0.025047\n",
       "2016-04-05    0.121286\n",
       "2016-04-06    0.214332\n",
       "2016-04-07    0.126175\n",
       "Name: last_seen, dtype: float64"
      ]
     },
     "execution_count": 23,
     "metadata": {},
     "output_type": "execute_result"
    }
   ],
   "source": [
    "(autos['last_seen']\n",
    "     .str[:10]\n",
    "     .value_counts(normalize=True, dropna=False)\n",
    "     .sort_index()\n",
    ")"
   ]
  },
  {
   "cell_type": "markdown",
   "metadata": {},
   "source": [
    "explanations?\n",
    "\n",
    "### 4. Registration Year"
   ]
  },
  {
   "cell_type": "code",
   "execution_count": 24,
   "metadata": {},
   "outputs": [
    {
     "data": {
      "text/plain": [
       "count    44795.00000\n",
       "mean      2003.97339\n",
       "std         74.81955\n",
       "min       1000.00000\n",
       "25%       1999.00000\n",
       "50%       2003.00000\n",
       "75%       2007.00000\n",
       "max       9999.00000\n",
       "Name: registration_year, dtype: float64"
      ]
     },
     "execution_count": 24,
     "metadata": {},
     "output_type": "execute_result"
    }
   ],
   "source": [
    "autos['registration_year'].describe()"
   ]
  },
  {
   "cell_type": "markdown",
   "metadata": {},
   "source": [
    "#### Observations\n",
    "\n",
    "- **_The registration_year column contains some unexpected values:_**\n",
    "\n",
    "    - *The minimum value is 1000, this is long before 1885 when cars were invented.*\n",
    "    - *The maximum value is 9999, many years into the future. We are also aware that the listings were last seen by the crawler in 2016. A car can't be first registered after its listing has been seen.* \n",
    "\n",
    "Determining the earliest valid year is challenging. However since we know that cars were invented in 1885, we can use the first few decades of 1900s as our lower cut off point. At the higher end, any vehicle with a registration year above 2016 is definitely inaccurate. \n",
    "\n",
    "Before we eliminate these rows, let's count the number of listings with cars that fall outside the 1900 - 2016 registration year and see if it's safe to remove these rows entirely, without impacting our analysis too much."
   ]
  },
  {
   "cell_type": "code",
   "execution_count": 25,
   "metadata": {},
   "outputs": [
    {
     "name": "stdout",
     "output_type": "stream",
     "text": [
      "The invalid years constitute 4.1% of the total data\n"
     ]
    }
   ],
   "source": [
    "invalid_rows = (~(autos['registration_year'].between(1900, 2016))).sum()\n",
    "total_rows = autos['registration_year'].shape[0]\n",
    "percentage_invalid = invalid_rows/total_rows\n",
    "\n",
    "print('The invalid years constitute {:.1f}% of the total data'.format(percentage_invalid * 100))"
   ]
  },
  {
   "cell_type": "markdown",
   "metadata": {},
   "source": [
    "Since these years constitute only 4.1% of our total data. We can safely eliminate these records from our analysis:"
   ]
  },
  {
   "cell_type": "code",
   "execution_count": 26,
   "metadata": {},
   "outputs": [
    {
     "data": {
      "text/plain": [
       "2000    0.073140\n",
       "1999    0.067227\n",
       "2005    0.067227\n",
       "2003    0.062129\n",
       "2004    0.061920\n",
       "2001    0.060895\n",
       "2006    0.060127\n",
       "2002    0.057264\n",
       "1998    0.054703\n",
       "2007    0.049512\n",
       "2008    0.046207\n",
       "1997    0.045252\n",
       "2009    0.042087\n",
       "1996    0.031705\n",
       "2010    0.028539\n",
       "Name: registration_year, dtype: float64"
      ]
     },
     "execution_count": 26,
     "metadata": {},
     "output_type": "execute_result"
    }
   ],
   "source": [
    "autos = autos[autos['registration_year'].between(1900, 2016)]\n",
    "\n",
    "(autos['registration_year']\n",
    "     .value_counts(normalize=True)\n",
    "     .sort_values(ascending=False)\n",
    "     .head(15)\n",
    ")"
   ]
  },
  {
   "cell_type": "markdown",
   "metadata": {},
   "source": [
    "#### Observations:\n",
    "- *It appears that most of the vehicles (a cumulative of 74%) were first registered between the years 1997 to 2009. The remaining the 23% were registered after 2009*\n",
    "\n",
    "### 5. Registration Month"
   ]
  },
  {
   "cell_type": "code",
   "execution_count": 27,
   "metadata": {},
   "outputs": [
    {
     "data": {
      "text/plain": [
       "count    42959.000000\n",
       "mean         5.791918\n",
       "std          3.691957\n",
       "min          0.000000\n",
       "25%          3.000000\n",
       "50%          6.000000\n",
       "75%          9.000000\n",
       "max         12.000000\n",
       "Name: registration_month, dtype: float64"
      ]
     },
     "execution_count": 27,
     "metadata": {},
     "output_type": "execute_result"
    }
   ],
   "source": [
    "autos['registration_month'].describe()"
   ]
  },
  {
   "cell_type": "markdown",
   "metadata": {},
   "source": [
    "#### Observations:\n",
    "\n",
    "- *Since the lowest value is set at 0 (presumably denoting January), we would expect the highest value to be at 11 (denoting December). However the highest value we see here is 12. This is quite unexpected.*\n",
    "\n",
    "We will probe into this further:"
   ]
  },
  {
   "cell_type": "code",
   "execution_count": 28,
   "metadata": {},
   "outputs": [
    {
     "data": {
      "text/plain": [
       "0     0.092344\n",
       "1     0.065760\n",
       "2     0.060500\n",
       "3     0.103308\n",
       "4     0.082846\n",
       "5     0.083405\n",
       "6     0.087479\n",
       "7     0.077679\n",
       "8     0.064527\n",
       "9     0.068624\n",
       "10    0.074932\n",
       "11    0.068111\n",
       "12    0.070486\n",
       "Name: registration_month, dtype: float64"
      ]
     },
     "execution_count": 28,
     "metadata": {},
     "output_type": "execute_result"
    }
   ],
   "source": [
    "(autos['registration_month']\n",
    "     .value_counts(normalize=True)\n",
    "     .sort_index()\n",
    "    \n",
    ")"
   ]
  },
  {
   "cell_type": "markdown",
   "metadata": {},
   "source": [
    "#### Observations:\n",
    "\n",
    "- **_This looks a bit more challenging:_**\n",
    "    - *The months are evenly distributed. Hence it would not be a good idea to remove any month in favor of the others*\n",
    "    - *No month is errously skipped which further complicates what 0 and 12 are supposed to represent.*\n",
    "\n",
    "Since it is unclear where the error is from, we will drop the `registration_month` column as it could compromise our analysis:"
   ]
  },
  {
   "cell_type": "code",
   "execution_count": 29,
   "metadata": {},
   "outputs": [
    {
     "data": {
      "text/plain": [
       "(42959, 16)"
      ]
     },
     "execution_count": 29,
     "metadata": {},
     "output_type": "execute_result"
    }
   ],
   "source": [
    "autos = autos.drop('registration_month', axis=1)\n",
    "autos.shape"
   ]
  },
  {
   "cell_type": "markdown",
   "metadata": {},
   "source": [
    "## Data Analysis\n",
    "\n",
    "### Exploring Price by Brand\n",
    "\n",
    "Lets explore the unique values in the brand column, to identify the most common brands in the used car listings:"
   ]
  },
  {
   "cell_type": "code",
   "execution_count": 30,
   "metadata": {},
   "outputs": [
    {
     "data": {
      "text/plain": [
       "volkswagen        0.214763\n",
       "opel              0.115203\n",
       "bmw               0.103541\n",
       "mercedes_benz     0.088131\n",
       "audi              0.077562\n",
       "ford              0.073093\n",
       "renault           0.050769\n",
       "peugeot           0.032170\n",
       "fiat              0.027747\n",
       "seat              0.019088\n",
       "skoda             0.016993\n",
       "mazda             0.016085\n",
       "nissan            0.015782\n",
       "smart             0.015363\n",
       "citroen           0.015038\n",
       "toyota            0.013362\n",
       "hyundai           0.010545\n",
       "volvo             0.009334\n",
       "mitsubishi        0.008706\n",
       "sonstige_autos    0.008496\n",
       "honda             0.008334\n",
       "mini              0.007752\n",
       "alfa_romeo        0.007007\n",
       "kia               0.006960\n",
       "suzuki            0.006378\n",
       "chevrolet         0.005750\n",
       "chrysler          0.003748\n",
       "dacia             0.002863\n",
       "daihatsu          0.002724\n",
       "subaru            0.002211\n",
       "jeep              0.002002\n",
       "porsche           0.001886\n",
       "saab              0.001769\n",
       "daewoo            0.001629\n",
       "trabant           0.001513\n",
       "rover             0.001420\n",
       "land_rover        0.001304\n",
       "jaguar            0.001234\n",
       "lancia            0.001117\n",
       "lada              0.000629\n",
       "Name: brand, dtype: float64"
      ]
     },
     "execution_count": 30,
     "metadata": {},
     "output_type": "execute_result"
    }
   ],
   "source": [
    "autos['brand'].value_counts(normalize=True)"
   ]
  },
  {
   "cell_type": "markdown",
   "metadata": {},
   "source": [
    "#### Observations:\n",
    "\n",
    "- *The most common brands on the listing is Volkswagen (21%). Opel (about 12%), BMW (10%), Mercedes Benz (9%) and Audi (8%), Ford (7%) and Renaut (5%) follow behind respectively.* \n",
    "- *If we summed these percentage, we would find out that these top 7 brands constitute over 72% of the population of listed car brands in our dataset.* \n",
    "- *Of the top 7 brands, the top 5 are German (Volkswagen, Opel, BMW, Mercedes and Audi). The constitute about 50% of the entire population of listed brands. The other 2 brands are American (Ford) and French (Renault) brands.*\n",
    "\n",
    "There other brands only constute a combined 28% of total listings. As a result, we will limit our analysis to brands representing more than 5% of the total. If we take another look at the previous output we will discover that only the top 7 brands meet this criteria."
   ]
  },
  {
   "cell_type": "code",
   "execution_count": 31,
   "metadata": {},
   "outputs": [
    {
     "data": {
      "text/plain": [
       "Index(['volkswagen', 'opel', 'bmw', 'mercedes_benz', 'audi', 'ford',\n",
       "       'renault'],\n",
       "      dtype='object')"
      ]
     },
     "execution_count": 31,
     "metadata": {},
     "output_type": "execute_result"
    }
   ],
   "source": [
    "top_brands = (autos['brand']\n",
    "                  .value_counts()\n",
    "                  .head(7)\n",
    "                  .index\n",
    "             )\n",
    "\n",
    "top_brands"
   ]
  },
  {
   "cell_type": "code",
   "execution_count": 32,
   "metadata": {},
   "outputs": [
    {
     "name": "stdout",
     "output_type": "stream",
     "text": [
      "volkswagen       4183\n",
      "opel             2712\n",
      "bmw              5649\n",
      "mercedes_benz    5259\n",
      "audi             5703\n",
      "ford             2944\n",
      "renault          2281\n",
      "dtype: int64\n",
      "------------------------------\n",
      "The median of these prices is 4183\n"
     ]
    }
   ],
   "source": [
    "aggregate_price = {}\n",
    "\n",
    "for brand in top_brands:\n",
    "    \n",
    "    prices = autos['usd_price'][autos['brand'] == brand]\n",
    "    mean_price = prices.mean()\n",
    "    aggregate_price[brand] = int(mean_price)\n",
    "    \n",
    "# convert dictionary to a pandas series for easy printing and manipulation\n",
    "price_series = pd.Series(aggregate_price) \n",
    "\n",
    "print(price_series)\n",
    "print('-'*30)\n",
    "print('The median of these prices is {:.0f}'.format(price_series.median()))"
   ]
  },
  {
   "cell_type": "markdown",
   "metadata": {},
   "source": [
    "#### Observations\n",
    "\n",
    "- *Asides Opel, the German brands (Volkswagen, BMW, Mercedes and Audi) seem more expensive on average than the American or French ones.*\n",
    "- *The average price for Volkwagen seems to be at the middle point of all these prices, offering an interesting balance between popularity and price.*\n",
    "\n",
    "### The Top 7 Brands - Exploring Mileage\n",
    "\n",
    "For the top 7 brands, we will use aggregation to understand the average mileage for those cars and if there's any visible link with mean price. Rather than display both aggregated series objects and visually compare them, we will combine the data from both series objects into a single dataframe (with a shared index) and display the dataframe directly.\n",
    "\n",
    "We have already converted our `aggregate_price` dictionary into the Pandas series object - `price_series` using the `pd.Series()` constructor. Next we will convert the series object into a Dataframe using the `pd.DataFrame()` constructor:"
   ]
  },
  {
   "cell_type": "code",
   "execution_count": 33,
   "metadata": {},
   "outputs": [
    {
     "data": {
      "text/html": [
       "<div>\n",
       "<style scoped>\n",
       "    .dataframe tbody tr th:only-of-type {\n",
       "        vertical-align: middle;\n",
       "    }\n",
       "\n",
       "    .dataframe tbody tr th {\n",
       "        vertical-align: top;\n",
       "    }\n",
       "\n",
       "    .dataframe thead th {\n",
       "        text-align: right;\n",
       "    }\n",
       "</style>\n",
       "<table border=\"1\" class=\"dataframe\">\n",
       "  <thead>\n",
       "    <tr style=\"text-align: right;\">\n",
       "      <th></th>\n",
       "      <th>mean_price_usd</th>\n",
       "    </tr>\n",
       "  </thead>\n",
       "  <tbody>\n",
       "    <tr>\n",
       "      <th>volkswagen</th>\n",
       "      <td>4183</td>\n",
       "    </tr>\n",
       "    <tr>\n",
       "      <th>opel</th>\n",
       "      <td>2712</td>\n",
       "    </tr>\n",
       "    <tr>\n",
       "      <th>bmw</th>\n",
       "      <td>5649</td>\n",
       "    </tr>\n",
       "    <tr>\n",
       "      <th>mercedes_benz</th>\n",
       "      <td>5259</td>\n",
       "    </tr>\n",
       "    <tr>\n",
       "      <th>audi</th>\n",
       "      <td>5703</td>\n",
       "    </tr>\n",
       "    <tr>\n",
       "      <th>ford</th>\n",
       "      <td>2944</td>\n",
       "    </tr>\n",
       "    <tr>\n",
       "      <th>renault</th>\n",
       "      <td>2281</td>\n",
       "    </tr>\n",
       "  </tbody>\n",
       "</table>\n",
       "</div>"
      ],
      "text/plain": [
       "               mean_price_usd\n",
       "volkswagen               4183\n",
       "opel                     2712\n",
       "bmw                      5649\n",
       "mercedes_benz            5259\n",
       "audi                     5703\n",
       "ford                     2944\n",
       "renault                  2281"
      ]
     },
     "execution_count": 33,
     "metadata": {},
     "output_type": "execute_result"
    }
   ],
   "source": [
    "price_df = pd.DataFrame(data = price_series, columns = ['mean_price_usd'])\n",
    "price_df"
   ]
  },
  {
   "cell_type": "markdown",
   "metadata": {},
   "source": [
    "Lets repeat the same process for the `odometer_km` column. We will calculate the average mileage of the cars in the top 7 brands, then construct Series and Dataframe objects from our results."
   ]
  },
  {
   "cell_type": "code",
   "execution_count": 34,
   "metadata": {},
   "outputs": [
    {
     "name": "stdout",
     "output_type": "stream",
     "text": [
      "The median of these mileages is 132813\n"
     ]
    },
    {
     "data": {
      "text/html": [
       "<div>\n",
       "<style scoped>\n",
       "    .dataframe tbody tr th:only-of-type {\n",
       "        vertical-align: middle;\n",
       "    }\n",
       "\n",
       "    .dataframe tbody tr th {\n",
       "        vertical-align: top;\n",
       "    }\n",
       "\n",
       "    .dataframe thead th {\n",
       "        text-align: right;\n",
       "    }\n",
       "</style>\n",
       "<table border=\"1\" class=\"dataframe\">\n",
       "  <thead>\n",
       "    <tr style=\"text-align: right;\">\n",
       "      <th></th>\n",
       "      <th>mean_mileage_km</th>\n",
       "    </tr>\n",
       "  </thead>\n",
       "  <tbody>\n",
       "    <tr>\n",
       "      <th>volkswagen</th>\n",
       "      <td>132813</td>\n",
       "    </tr>\n",
       "    <tr>\n",
       "      <th>opel</th>\n",
       "      <td>130500</td>\n",
       "    </tr>\n",
       "    <tr>\n",
       "      <th>bmw</th>\n",
       "      <td>138833</td>\n",
       "    </tr>\n",
       "    <tr>\n",
       "      <th>mercedes_benz</th>\n",
       "      <td>138411</td>\n",
       "    </tr>\n",
       "    <tr>\n",
       "      <th>audi</th>\n",
       "      <td>139701</td>\n",
       "    </tr>\n",
       "    <tr>\n",
       "      <th>ford</th>\n",
       "      <td>127004</td>\n",
       "    </tr>\n",
       "    <tr>\n",
       "      <th>renault</th>\n",
       "      <td>128892</td>\n",
       "    </tr>\n",
       "  </tbody>\n",
       "</table>\n",
       "</div>"
      ],
      "text/plain": [
       "               mean_mileage_km\n",
       "volkswagen              132813\n",
       "opel                    130500\n",
       "bmw                     138833\n",
       "mercedes_benz           138411\n",
       "audi                    139701\n",
       "ford                    127004\n",
       "renault                 128892"
      ]
     },
     "execution_count": 34,
     "metadata": {},
     "output_type": "execute_result"
    }
   ],
   "source": [
    "aggregate_mileage = {}\n",
    "\n",
    "for brand in top_brands:\n",
    "    \n",
    "    mileage = autos['odometer_km'][autos['brand'] == brand]\n",
    "    mean_mileage = mileage.mean()\n",
    "    aggregate_mileage[brand] = int(mean_mileage)\n",
    "    \n",
    "mileage_series = pd.Series(aggregate_mileage)    \n",
    "print('The median of these mileages is {:.0f}'.format(mileage_series.median()))\n",
    "mileage_df = pd.DataFrame(data = mileage_series, columns = ['mean_mileage_km'])\n",
    "\n",
    "mileage_df"
   ]
  },
  {
   "cell_type": "markdown",
   "metadata": {},
   "source": [
    "Finally, we will join the average price and mileage dataframes together to enable us compare their results at a glance. One way we can do this is by assigning `mileage_series` to a new column in the price dataframe:"
   ]
  },
  {
   "cell_type": "code",
   "execution_count": 35,
   "metadata": {},
   "outputs": [
    {
     "data": {
      "text/html": [
       "<div>\n",
       "<style scoped>\n",
       "    .dataframe tbody tr th:only-of-type {\n",
       "        vertical-align: middle;\n",
       "    }\n",
       "\n",
       "    .dataframe tbody tr th {\n",
       "        vertical-align: top;\n",
       "    }\n",
       "\n",
       "    .dataframe thead th {\n",
       "        text-align: right;\n",
       "    }\n",
       "</style>\n",
       "<table border=\"1\" class=\"dataframe\">\n",
       "  <thead>\n",
       "    <tr style=\"text-align: right;\">\n",
       "      <th></th>\n",
       "      <th>mean_price_usd</th>\n",
       "      <th>mean_mileage_km</th>\n",
       "    </tr>\n",
       "  </thead>\n",
       "  <tbody>\n",
       "    <tr>\n",
       "      <th>volkswagen</th>\n",
       "      <td>4183</td>\n",
       "      <td>132813</td>\n",
       "    </tr>\n",
       "    <tr>\n",
       "      <th>opel</th>\n",
       "      <td>2712</td>\n",
       "      <td>130500</td>\n",
       "    </tr>\n",
       "    <tr>\n",
       "      <th>bmw</th>\n",
       "      <td>5649</td>\n",
       "      <td>138833</td>\n",
       "    </tr>\n",
       "    <tr>\n",
       "      <th>mercedes_benz</th>\n",
       "      <td>5259</td>\n",
       "      <td>138411</td>\n",
       "    </tr>\n",
       "    <tr>\n",
       "      <th>audi</th>\n",
       "      <td>5703</td>\n",
       "      <td>139701</td>\n",
       "    </tr>\n",
       "    <tr>\n",
       "      <th>ford</th>\n",
       "      <td>2944</td>\n",
       "      <td>127004</td>\n",
       "    </tr>\n",
       "    <tr>\n",
       "      <th>renault</th>\n",
       "      <td>2281</td>\n",
       "      <td>128892</td>\n",
       "    </tr>\n",
       "  </tbody>\n",
       "</table>\n",
       "</div>"
      ],
      "text/plain": [
       "               mean_price_usd  mean_mileage_km\n",
       "volkswagen               4183           132813\n",
       "opel                     2712           130500\n",
       "bmw                      5649           138833\n",
       "mercedes_benz            5259           138411\n",
       "audi                     5703           139701\n",
       "ford                     2944           127004\n",
       "renault                  2281           128892"
      ]
     },
     "execution_count": 35,
     "metadata": {},
     "output_type": "execute_result"
    }
   ],
   "source": [
    "price_df['mean_mileage_km'] = mileage_series\n",
    "price_df"
   ]
  },
  {
   "cell_type": "markdown",
   "metadata": {},
   "source": [
    "#### Observations\n",
    "- *We would expect the average mileage to fall as the average price of the cars rise. However this is not the case here as we notice the more expensive vehicles having higher mileage, and the cheaper ones recording lower mileages*\n",
    "- *We see Volkswagen at the median of the mileage values again. It's popularity on the listings might be perhaps attributable to it being the brand that fairly balances price and mileage*\n",
    "\n",
    "### Popular Brand Model Combinations\n",
    "\n",
    "We already have information on the most common brands. It would also be interesting to have information on which particular car models contribute to the brand's popularity on the listings.\n",
    "\n",
    "Panda has a handy `.groupby()` method that enables us to group large amounts of data from a dataframe together, then compute aggregations on these groups. Our action will be a simple two step process:\n",
    "\n",
    "- First, we will extract the two columns of interest (`brand` and `model`) from our dataframe.\n",
    "\n",
    "- Next, we will group the distinct occurrences of each brand with each specific model using the `.groupby` method, then compute aggregations of each model's frequency:"
   ]
  },
  {
   "cell_type": "code",
   "execution_count": 36,
   "metadata": {},
   "outputs": [
    {
     "data": {
      "text/plain": [
       "brand       model   \n",
       "alfa_romeo  145          4\n",
       "            147         80\n",
       "            156         88\n",
       "            159         32\n",
       "            andere      55\n",
       "                        ..\n",
       "volvo       v40         85\n",
       "            v50         29\n",
       "            v60          1\n",
       "            v70         89\n",
       "            xc_reihe    33\n",
       "Name: model, Length: 285, dtype: int64"
      ]
     },
     "execution_count": 36,
     "metadata": {},
     "output_type": "execute_result"
    }
   ],
   "source": [
    "# extract the relevant columns from the autos dataframe\n",
    "brand_model = autos[['brand','model']]\n",
    "\n",
    "brand_model_grouped = (brand_model\n",
    "                           .groupby(['brand','model']) # select distinct occurences of each brand and model\n",
    "                           ['model'].count() # count the distinct models within each brand\n",
    "                      )\n",
    "\n",
    "brand_model_grouped"
   ]
  },
  {
   "cell_type": "markdown",
   "metadata": {},
   "source": [
    "Our results do not look attractive to read. By default, the `.groupby()` method returns a series with the grouped columns as a multi-index. To obtain a more detailed result to read, we will push the grouped columns back into dataframe columns by resetting the indices then assign a column name to our model counts:"
   ]
  },
  {
   "cell_type": "code",
   "execution_count": 37,
   "metadata": {},
   "outputs": [
    {
     "data": {
      "text/html": [
       "<div>\n",
       "<style scoped>\n",
       "    .dataframe tbody tr th:only-of-type {\n",
       "        vertical-align: middle;\n",
       "    }\n",
       "\n",
       "    .dataframe tbody tr th {\n",
       "        vertical-align: top;\n",
       "    }\n",
       "\n",
       "    .dataframe thead th {\n",
       "        text-align: right;\n",
       "    }\n",
       "</style>\n",
       "<table border=\"1\" class=\"dataframe\">\n",
       "  <thead>\n",
       "    <tr style=\"text-align: right;\">\n",
       "      <th></th>\n",
       "      <th>brand</th>\n",
       "      <th>model</th>\n",
       "      <th>count</th>\n",
       "    </tr>\n",
       "  </thead>\n",
       "  <tbody>\n",
       "    <tr>\n",
       "      <th>0</th>\n",
       "      <td>alfa_romeo</td>\n",
       "      <td>145</td>\n",
       "      <td>4</td>\n",
       "    </tr>\n",
       "    <tr>\n",
       "      <th>1</th>\n",
       "      <td>alfa_romeo</td>\n",
       "      <td>147</td>\n",
       "      <td>80</td>\n",
       "    </tr>\n",
       "    <tr>\n",
       "      <th>2</th>\n",
       "      <td>alfa_romeo</td>\n",
       "      <td>156</td>\n",
       "      <td>88</td>\n",
       "    </tr>\n",
       "    <tr>\n",
       "      <th>3</th>\n",
       "      <td>alfa_romeo</td>\n",
       "      <td>159</td>\n",
       "      <td>32</td>\n",
       "    </tr>\n",
       "    <tr>\n",
       "      <th>4</th>\n",
       "      <td>alfa_romeo</td>\n",
       "      <td>andere</td>\n",
       "      <td>55</td>\n",
       "    </tr>\n",
       "    <tr>\n",
       "      <th>...</th>\n",
       "      <td>...</td>\n",
       "      <td>...</td>\n",
       "      <td>...</td>\n",
       "    </tr>\n",
       "    <tr>\n",
       "      <th>280</th>\n",
       "      <td>volvo</td>\n",
       "      <td>v40</td>\n",
       "      <td>85</td>\n",
       "    </tr>\n",
       "    <tr>\n",
       "      <th>281</th>\n",
       "      <td>volvo</td>\n",
       "      <td>v50</td>\n",
       "      <td>29</td>\n",
       "    </tr>\n",
       "    <tr>\n",
       "      <th>282</th>\n",
       "      <td>volvo</td>\n",
       "      <td>v60</td>\n",
       "      <td>1</td>\n",
       "    </tr>\n",
       "    <tr>\n",
       "      <th>283</th>\n",
       "      <td>volvo</td>\n",
       "      <td>v70</td>\n",
       "      <td>89</td>\n",
       "    </tr>\n",
       "    <tr>\n",
       "      <th>284</th>\n",
       "      <td>volvo</td>\n",
       "      <td>xc_reihe</td>\n",
       "      <td>33</td>\n",
       "    </tr>\n",
       "  </tbody>\n",
       "</table>\n",
       "<p>285 rows × 3 columns</p>\n",
       "</div>"
      ],
      "text/plain": [
       "          brand     model  count\n",
       "0    alfa_romeo       145      4\n",
       "1    alfa_romeo       147     80\n",
       "2    alfa_romeo       156     88\n",
       "3    alfa_romeo       159     32\n",
       "4    alfa_romeo    andere     55\n",
       "..          ...       ...    ...\n",
       "280       volvo       v40     85\n",
       "281       volvo       v50     29\n",
       "282       volvo       v60      1\n",
       "283       volvo       v70     89\n",
       "284       volvo  xc_reihe     33\n",
       "\n",
       "[285 rows x 3 columns]"
      ]
     },
     "execution_count": 37,
     "metadata": {},
     "output_type": "execute_result"
    }
   ],
   "source": [
    "# reset multi-index series to dataframe and assign a name to the aggregate column\n",
    "brand_model_grouped = brand_model_grouped.reset_index(name='count') \n",
    "brand_model_grouped"
   ]
  },
  {
   "cell_type": "markdown",
   "metadata": {},
   "source": [
    "This already looks much better, but we only need information on the most popular cars. We need to sort the entire dataframe in descending order based on the values in the `counts` column:"
   ]
  },
  {
   "cell_type": "code",
   "execution_count": 38,
   "metadata": {},
   "outputs": [
    {
     "data": {
      "text/html": [
       "<div>\n",
       "<style scoped>\n",
       "    .dataframe tbody tr th:only-of-type {\n",
       "        vertical-align: middle;\n",
       "    }\n",
       "\n",
       "    .dataframe tbody tr th {\n",
       "        vertical-align: top;\n",
       "    }\n",
       "\n",
       "    .dataframe thead th {\n",
       "        text-align: right;\n",
       "    }\n",
       "</style>\n",
       "<table border=\"1\" class=\"dataframe\">\n",
       "  <thead>\n",
       "    <tr style=\"text-align: right;\">\n",
       "      <th></th>\n",
       "      <th>brand</th>\n",
       "      <th>model</th>\n",
       "      <th>count</th>\n",
       "    </tr>\n",
       "  </thead>\n",
       "  <tbody>\n",
       "    <tr>\n",
       "      <th>262</th>\n",
       "      <td>volkswagen</td>\n",
       "      <td>golf</td>\n",
       "      <td>3487</td>\n",
       "    </tr>\n",
       "    <tr>\n",
       "      <th>22</th>\n",
       "      <td>bmw</td>\n",
       "      <td>3er</td>\n",
       "      <td>2431</td>\n",
       "    </tr>\n",
       "    <tr>\n",
       "      <th>268</th>\n",
       "      <td>volkswagen</td>\n",
       "      <td>polo</td>\n",
       "      <td>1604</td>\n",
       "    </tr>\n",
       "    <tr>\n",
       "      <th>179</th>\n",
       "      <td>opel</td>\n",
       "      <td>corsa</td>\n",
       "      <td>1589</td>\n",
       "    </tr>\n",
       "    <tr>\n",
       "      <th>176</th>\n",
       "      <td>opel</td>\n",
       "      <td>astra</td>\n",
       "      <td>1339</td>\n",
       "    </tr>\n",
       "    <tr>\n",
       "      <th>266</th>\n",
       "      <td>volkswagen</td>\n",
       "      <td>passat</td>\n",
       "      <td>1299</td>\n",
       "    </tr>\n",
       "    <tr>\n",
       "      <th>13</th>\n",
       "      <td>audi</td>\n",
       "      <td>a4</td>\n",
       "      <td>1126</td>\n",
       "    </tr>\n",
       "    <tr>\n",
       "      <th>140</th>\n",
       "      <td>mercedes_benz</td>\n",
       "      <td>c_klasse</td>\n",
       "      <td>1005</td>\n",
       "    </tr>\n",
       "    <tr>\n",
       "      <th>23</th>\n",
       "      <td>bmw</td>\n",
       "      <td>5er</td>\n",
       "      <td>991</td>\n",
       "    </tr>\n",
       "    <tr>\n",
       "      <th>143</th>\n",
       "      <td>mercedes_benz</td>\n",
       "      <td>e_klasse</td>\n",
       "      <td>813</td>\n",
       "    </tr>\n",
       "    <tr>\n",
       "      <th>81</th>\n",
       "      <td>ford</td>\n",
       "      <td>focus</td>\n",
       "      <td>747</td>\n",
       "    </tr>\n",
       "    <tr>\n",
       "      <th>12</th>\n",
       "      <td>audi</td>\n",
       "      <td>a3</td>\n",
       "      <td>720</td>\n",
       "    </tr>\n",
       "    <tr>\n",
       "      <th>80</th>\n",
       "      <td>ford</td>\n",
       "      <td>fiesta</td>\n",
       "      <td>718</td>\n",
       "    </tr>\n",
       "    <tr>\n",
       "      <th>15</th>\n",
       "      <td>audi</td>\n",
       "      <td>a6</td>\n",
       "      <td>699</td>\n",
       "    </tr>\n",
       "    <tr>\n",
       "      <th>208</th>\n",
       "      <td>renault</td>\n",
       "      <td>twingo</td>\n",
       "      <td>615</td>\n",
       "    </tr>\n",
       "  </tbody>\n",
       "</table>\n",
       "</div>"
      ],
      "text/plain": [
       "             brand     model  count\n",
       "262     volkswagen      golf   3487\n",
       "22             bmw       3er   2431\n",
       "268     volkswagen      polo   1604\n",
       "179           opel     corsa   1589\n",
       "176           opel     astra   1339\n",
       "266     volkswagen    passat   1299\n",
       "13            audi        a4   1126\n",
       "140  mercedes_benz  c_klasse   1005\n",
       "23             bmw       5er    991\n",
       "143  mercedes_benz  e_klasse    813\n",
       "81            ford     focus    747\n",
       "12            audi        a3    720\n",
       "80            ford    fiesta    718\n",
       "15            audi        a6    699\n",
       "208        renault    twingo    615"
      ]
     },
     "execution_count": 38,
     "metadata": {},
     "output_type": "execute_result"
    }
   ],
   "source": [
    "brand_model_grouped.sort_values(by='count', axis=0, ascending=False).head(15)"
   ]
  },
  {
   "cell_type": "markdown",
   "metadata": {},
   "source": [
    "#### Observations\n",
    "- **_We'd immediately notice the agreement of this pattern with what we observed in the brands. Volkswagen, Opel, BMW, Mercedes Benz, Audi, Ford, and Renaut remain the top brands:_**\n",
    "    - *The most popular Volkswagen models are the Golf, Polo and Passat.*\n",
    "    \n",
    "    - *The most popular BMW models are the 3er and 5er series.*\n",
    "    \n",
    "    - *The most popular Opel models are Corsa and Astra.*\n",
    "    \n",
    "    - *Audi is popular with their A-series models (a4, a3 and a6)*\n",
    "    \n",
    "    - *Mercedes is popular with the c and e class cars*\n",
    "    \n",
    "    - *Ford is popular with its focus and fiesta models while the most popular Renault model is the Twingo*\n",
    "    \n",
    "### Investigating Mileage and Price Further\n",
    "\n",
    "Let's explore how odometer readings influence the average price of a listed car. We will divide our odometer readings into minor intervals then inspect for any interesting price patterns as mileage grows. First we will inspect the `odometer_km` column by sorting its unique values:"
   ]
  },
  {
   "cell_type": "code",
   "execution_count": 39,
   "metadata": {},
   "outputs": [
    {
     "data": {
      "text/plain": [
       "[5000,\n",
       " 10000,\n",
       " 20000,\n",
       " 30000,\n",
       " 40000,\n",
       " 50000,\n",
       " 60000,\n",
       " 70000,\n",
       " 80000,\n",
       " 90000,\n",
       " 100000,\n",
       " 125000,\n",
       " 150000]"
      ]
     },
     "execution_count": 39,
     "metadata": {},
     "output_type": "execute_result"
    }
   ],
   "source": [
    "sorted(autos['odometer_km'].unique())"
   ]
  },
  {
   "cell_type": "markdown",
   "metadata": {},
   "source": [
    "There are not many unique values in this column, and it appears that the data in this column are round to the nearest thousands (there are no in-betweens). With this in mind, we will split our odometer readings into seven intervals as follows:\n",
    "\n",
    "```\n",
    "5000km - 10000km\n",
    "20000km - 30000km\n",
    "40000km - 50000km\n",
    "60000km - 70000km\n",
    "80000km - 90000km\n",
    "100000km - 125000km\n",
    "150000km or more\n",
    "```\n",
    "Since these intervals are few and easy to work with, we can manually create a dictionary to hold them:"
   ]
  },
  {
   "cell_type": "code",
   "execution_count": 40,
   "metadata": {},
   "outputs": [],
   "source": [
    "odometer_groups = {\n",
    "    5000:'5000km - 10000km',\n",
    "    10000:'5000km - 10000km',\n",
    "    20000:'20000km - 30000km',\n",
    "    30000:'20000km - 30000km',\n",
    "    40000:'40000km - 50000km',\n",
    "    50000:'40000km - 50000km',\n",
    "    60000:'60000km - 70000km',\n",
    "    70000:'60000km - 70000km',\n",
    "    80000:'80000km - 90000km',\n",
    "    90000:'80000km - 90000km',\n",
    "    100000:'100000km - 125000km',\n",
    "    125000:'100000km - 125000km',\n",
    "    150000:'150000km or more'\n",
    "}"
   ]
  },
  {
   "cell_type": "markdown",
   "metadata": {},
   "source": [
    "We will extract the relevant columns from our dataset (`odometer_km` and `usd_price`), then assign the resulting dataframe to a variable called *`mileage`*. Next, we will map the values in our odometer_groups dictionary into the odometer column (we can use the handy `translate_column()` function to achieve this)."
   ]
  },
  {
   "cell_type": "code",
   "execution_count": 41,
   "metadata": {},
   "outputs": [
    {
     "data": {
      "text/html": [
       "<div>\n",
       "<style scoped>\n",
       "    .dataframe tbody tr th:only-of-type {\n",
       "        vertical-align: middle;\n",
       "    }\n",
       "\n",
       "    .dataframe tbody tr th {\n",
       "        vertical-align: top;\n",
       "    }\n",
       "\n",
       "    .dataframe thead th {\n",
       "        text-align: right;\n",
       "    }\n",
       "</style>\n",
       "<table border=\"1\" class=\"dataframe\">\n",
       "  <thead>\n",
       "    <tr style=\"text-align: right;\">\n",
       "      <th></th>\n",
       "      <th>odometer_km</th>\n",
       "      <th>usd_price</th>\n",
       "    </tr>\n",
       "  </thead>\n",
       "  <tbody>\n",
       "    <tr>\n",
       "      <th>0</th>\n",
       "      <td>150000km or more</td>\n",
       "      <td>5000</td>\n",
       "    </tr>\n",
       "    <tr>\n",
       "      <th>1</th>\n",
       "      <td>150000km or more</td>\n",
       "      <td>8500</td>\n",
       "    </tr>\n",
       "    <tr>\n",
       "      <th>2</th>\n",
       "      <td>60000km - 70000km</td>\n",
       "      <td>8990</td>\n",
       "    </tr>\n",
       "    <tr>\n",
       "      <th>3</th>\n",
       "      <td>60000km - 70000km</td>\n",
       "      <td>4350</td>\n",
       "    </tr>\n",
       "    <tr>\n",
       "      <th>4</th>\n",
       "      <td>150000km or more</td>\n",
       "      <td>1350</td>\n",
       "    </tr>\n",
       "    <tr>\n",
       "      <th>5</th>\n",
       "      <td>150000km or more</td>\n",
       "      <td>7900</td>\n",
       "    </tr>\n",
       "    <tr>\n",
       "      <th>6</th>\n",
       "      <td>150000km or more</td>\n",
       "      <td>300</td>\n",
       "    </tr>\n",
       "    <tr>\n",
       "      <th>7</th>\n",
       "      <td>150000km or more</td>\n",
       "      <td>1990</td>\n",
       "    </tr>\n",
       "    <tr>\n",
       "      <th>8</th>\n",
       "      <td>150000km or more</td>\n",
       "      <td>250</td>\n",
       "    </tr>\n",
       "    <tr>\n",
       "      <th>9</th>\n",
       "      <td>150000km or more</td>\n",
       "      <td>590</td>\n",
       "    </tr>\n",
       "  </tbody>\n",
       "</table>\n",
       "</div>"
      ],
      "text/plain": [
       "         odometer_km  usd_price\n",
       "0   150000km or more       5000\n",
       "1   150000km or more       8500\n",
       "2  60000km - 70000km       8990\n",
       "3  60000km - 70000km       4350\n",
       "4   150000km or more       1350\n",
       "5   150000km or more       7900\n",
       "6   150000km or more        300\n",
       "7   150000km or more       1990\n",
       "8   150000km or more        250\n",
       "9   150000km or more        590"
      ]
     },
     "execution_count": 41,
     "metadata": {},
     "output_type": "execute_result"
    }
   ],
   "source": [
    "# extract relevant columns\n",
    "mileage = autos[['odometer_km', 'usd_price']]\n",
    "\n",
    "translate_column(mileage,'odometer_km',odometer_groups)\n",
    "mileage.head(10)"
   ]
  },
  {
   "cell_type": "markdown",
   "metadata": {},
   "source": [
    "Our odometer groups have been successfully mapped to the odometer_km column. We can finally use the `groupby()` method to calculate the average per mileage group:"
   ]
  },
  {
   "cell_type": "code",
   "execution_count": 42,
   "metadata": {},
   "outputs": [
    {
     "data": {
      "text/html": [
       "<div>\n",
       "<style scoped>\n",
       "    .dataframe tbody tr th:only-of-type {\n",
       "        vertical-align: middle;\n",
       "    }\n",
       "\n",
       "    .dataframe tbody tr th {\n",
       "        vertical-align: top;\n",
       "    }\n",
       "\n",
       "    .dataframe thead th {\n",
       "        text-align: right;\n",
       "    }\n",
       "</style>\n",
       "<table border=\"1\" class=\"dataframe\">\n",
       "  <thead>\n",
       "    <tr style=\"text-align: right;\">\n",
       "      <th></th>\n",
       "      <th>odometer_km</th>\n",
       "      <th>avg_price_usd</th>\n",
       "    </tr>\n",
       "  </thead>\n",
       "  <tbody>\n",
       "    <tr>\n",
       "      <th>3</th>\n",
       "      <td>40000km - 50000km</td>\n",
       "      <td>8109.0</td>\n",
       "    </tr>\n",
       "    <tr>\n",
       "      <th>2</th>\n",
       "      <td>20000km - 30000km</td>\n",
       "      <td>7861.0</td>\n",
       "    </tr>\n",
       "    <tr>\n",
       "      <th>5</th>\n",
       "      <td>60000km - 70000km</td>\n",
       "      <td>7148.0</td>\n",
       "    </tr>\n",
       "    <tr>\n",
       "      <th>6</th>\n",
       "      <td>80000km - 90000km</td>\n",
       "      <td>6224.0</td>\n",
       "    </tr>\n",
       "    <tr>\n",
       "      <th>0</th>\n",
       "      <td>100000km - 125000km</td>\n",
       "      <td>5068.0</td>\n",
       "    </tr>\n",
       "    <tr>\n",
       "      <th>4</th>\n",
       "      <td>5000km - 10000km</td>\n",
       "      <td>3592.0</td>\n",
       "    </tr>\n",
       "    <tr>\n",
       "      <th>1</th>\n",
       "      <td>150000km or more</td>\n",
       "      <td>3298.0</td>\n",
       "    </tr>\n",
       "  </tbody>\n",
       "</table>\n",
       "</div>"
      ],
      "text/plain": [
       "           odometer_km  avg_price_usd\n",
       "3    40000km - 50000km         8109.0\n",
       "2    20000km - 30000km         7861.0\n",
       "5    60000km - 70000km         7148.0\n",
       "6    80000km - 90000km         6224.0\n",
       "0  100000km - 125000km         5068.0\n",
       "4     5000km - 10000km         3592.0\n",
       "1     150000km or more         3298.0"
      ]
     },
     "execution_count": 42,
     "metadata": {},
     "output_type": "execute_result"
    }
   ],
   "source": [
    "price_by_mileage =(mileage.groupby('odometer_km')['usd_price'].mean()\n",
    "                       .reset_index(name='avg_price_usd')\n",
    "                       .sort_values(by='avg_price_usd', axis=0, ascending=False)\n",
    "                  )\n",
    "\n",
    "price_by_mileage['avg_price_usd'] = price_by_mileage['avg_price_usd'].round()\n",
    "price_by_mileage"
   ]
  },
  {
   "cell_type": "markdown",
   "metadata": {},
   "source": [
    "#### Observation\n",
    "\n",
    "- *Medium mileage cars are the most expensive on average. This comprises vehicles that have travelled between 20,000 - 50,000km (as seen in our table's first and second rows). Their average prices range between 7,861USD to 8,100USD*\n",
    "\n",
    "- *Moderate to High mileage cars (60,000 - 120,000km) follow behind, with average prices ranging from about 5,000 USD to 7,100 USD*\n",
    "\n",
    "- *As expected, the highest mileage cars (150,000km or more) are priced the least.* \n",
    "\n",
    "- *We observe some unexpected findings with the lowest mileage cars (5000km to 10000km). Though one would expect these cars to be priced the highest, they are priced far lower than expected. It is hard to tell what could have caused this for sure, but this group could comprise cars that got damaged shortly after their purchase.*\n",
    "\n",
    "### Investigating Price and Unrepaired Damage\n",
    "\n",
    "We had suggested that the drop in average price of the low mileage cars may be due to some cars that damaged shortly after their purchase. In the next steps, we will find out just how cheap damaged cars are, especially when compared to their non-damaged counterparts. \n",
    "\n",
    "Before we proceed, let's take another look at the `unrepaired_damage` column:"
   ]
  },
  {
   "cell_type": "code",
   "execution_count": 43,
   "metadata": {},
   "outputs": [
    {
     "name": "stdout",
     "output_type": "stream",
     "text": [
      "COUNTS\n",
      "------------------------------\n",
      "no     30361\n",
      "NaN     8112\n",
      "yes     4486\n",
      "Name: unrepaired_damage, dtype: int64\n",
      "\n",
      "PERCENTAGES\n",
      "------------------------------\n",
      "no     0.706744\n",
      "NaN    0.188831\n",
      "yes    0.104425\n",
      "Name: unrepaired_damage, dtype: float64\n"
     ]
    }
   ],
   "source": [
    "print('COUNTS')\n",
    "print('-'*30)\n",
    "print(autos['unrepaired_damage'].value_counts(dropna=False))\n",
    "print(\"\")\n",
    "print('PERCENTAGES')\n",
    "print('-'*30)\n",
    "print(autos['unrepaired_damage'].value_counts(dropna=False, normalize=True))"
   ]
  },
  {
   "cell_type": "markdown",
   "metadata": {},
   "source": [
    "#### Observation\n",
    "\n",
    "- *A huge percentage of cars (about 70%) in our dataset are in good condition. 10% of the car listings have unrepaired damages and we lack enough information on the status of the remaining 19%. The null values in this group will not be useful for our analysis.*\n",
    "\n",
    "We can create our working dataframe from the `usd_price` and `unrepaired_damage` columns, then drop the rows with null values:"
   ]
  },
  {
   "cell_type": "code",
   "execution_count": 44,
   "metadata": {},
   "outputs": [
    {
     "name": "stdout",
     "output_type": "stream",
     "text": [
      "(42959, 2)\n",
      "(34847, 2)\n",
      "42959\n"
     ]
    },
    {
     "data": {
      "text/html": [
       "<div>\n",
       "<style scoped>\n",
       "    .dataframe tbody tr th:only-of-type {\n",
       "        vertical-align: middle;\n",
       "    }\n",
       "\n",
       "    .dataframe tbody tr th {\n",
       "        vertical-align: top;\n",
       "    }\n",
       "\n",
       "    .dataframe thead th {\n",
       "        text-align: right;\n",
       "    }\n",
       "</style>\n",
       "<table border=\"1\" class=\"dataframe\">\n",
       "  <thead>\n",
       "    <tr style=\"text-align: right;\">\n",
       "      <th></th>\n",
       "      <th>usd_price</th>\n",
       "      <th>unrepaired_damage</th>\n",
       "    </tr>\n",
       "  </thead>\n",
       "  <tbody>\n",
       "    <tr>\n",
       "      <th>0</th>\n",
       "      <td>5000</td>\n",
       "      <td>no</td>\n",
       "    </tr>\n",
       "    <tr>\n",
       "      <th>1</th>\n",
       "      <td>8500</td>\n",
       "      <td>no</td>\n",
       "    </tr>\n",
       "    <tr>\n",
       "      <th>2</th>\n",
       "      <td>8990</td>\n",
       "      <td>no</td>\n",
       "    </tr>\n",
       "    <tr>\n",
       "      <th>3</th>\n",
       "      <td>4350</td>\n",
       "      <td>no</td>\n",
       "    </tr>\n",
       "    <tr>\n",
       "      <th>4</th>\n",
       "      <td>1350</td>\n",
       "      <td>no</td>\n",
       "    </tr>\n",
       "    <tr>\n",
       "      <th>...</th>\n",
       "      <td>...</td>\n",
       "      <td>...</td>\n",
       "    </tr>\n",
       "    <tr>\n",
       "      <th>49992</th>\n",
       "      <td>4800</td>\n",
       "      <td>no</td>\n",
       "    </tr>\n",
       "    <tr>\n",
       "      <th>49994</th>\n",
       "      <td>5000</td>\n",
       "      <td>no</td>\n",
       "    </tr>\n",
       "    <tr>\n",
       "      <th>49996</th>\n",
       "      <td>1980</td>\n",
       "      <td>no</td>\n",
       "    </tr>\n",
       "    <tr>\n",
       "      <th>49997</th>\n",
       "      <td>13200</td>\n",
       "      <td>no</td>\n",
       "    </tr>\n",
       "    <tr>\n",
       "      <th>49999</th>\n",
       "      <td>1250</td>\n",
       "      <td>no</td>\n",
       "    </tr>\n",
       "  </tbody>\n",
       "</table>\n",
       "<p>34847 rows × 2 columns</p>\n",
       "</div>"
      ],
      "text/plain": [
       "       usd_price unrepaired_damage\n",
       "0           5000                no\n",
       "1           8500                no\n",
       "2           8990                no\n",
       "3           4350                no\n",
       "4           1350                no\n",
       "...          ...               ...\n",
       "49992       4800                no\n",
       "49994       5000                no\n",
       "49996       1980                no\n",
       "49997      13200                no\n",
       "49999       1250                no\n",
       "\n",
       "[34847 rows x 2 columns]"
      ]
     },
     "execution_count": 44,
     "metadata": {},
     "output_type": "execute_result"
    }
   ],
   "source": [
    "price_damage_table = autos[['usd_price','unrepaired_damage']]\n",
    "print(price_damage_table.shape)\n",
    "price_damage_table.dropna(axis=0, inplace=True)\n",
    "print(price_damage_table.shape)\n",
    "print(price_damage_table.shape[0] + 8112) # verify the number of dropped columns with the no of NaN values (8112)\n",
    "price_damage_table"
   ]
  },
  {
   "cell_type": "markdown",
   "metadata": {},
   "source": [
    "Next we will group by `unrepaired_damage` while computing the average USD prices for both the 'yes' and 'no' categories:"
   ]
  },
  {
   "cell_type": "code",
   "execution_count": 45,
   "metadata": {},
   "outputs": [
    {
     "data": {
      "text/html": [
       "<div>\n",
       "<style scoped>\n",
       "    .dataframe tbody tr th:only-of-type {\n",
       "        vertical-align: middle;\n",
       "    }\n",
       "\n",
       "    .dataframe tbody tr th {\n",
       "        vertical-align: top;\n",
       "    }\n",
       "\n",
       "    .dataframe thead th {\n",
       "        text-align: right;\n",
       "    }\n",
       "</style>\n",
       "<table border=\"1\" class=\"dataframe\">\n",
       "  <thead>\n",
       "    <tr style=\"text-align: right;\">\n",
       "      <th></th>\n",
       "      <th>unrepaired_damage</th>\n",
       "      <th>avg_price_usd</th>\n",
       "    </tr>\n",
       "  </thead>\n",
       "  <tbody>\n",
       "    <tr>\n",
       "      <th>0</th>\n",
       "      <td>no</td>\n",
       "      <td>4851.0</td>\n",
       "    </tr>\n",
       "    <tr>\n",
       "      <th>1</th>\n",
       "      <td>yes</td>\n",
       "      <td>1972.0</td>\n",
       "    </tr>\n",
       "  </tbody>\n",
       "</table>\n",
       "</div>"
      ],
      "text/plain": [
       "  unrepaired_damage  avg_price_usd\n",
       "0                no         4851.0\n",
       "1               yes         1972.0"
      ]
     },
     "execution_count": 45,
     "metadata": {},
     "output_type": "execute_result"
    }
   ],
   "source": [
    "price_to_damage = (price_damage_table.groupby('unrepaired_damage')['usd_price'].mean()\n",
    "                      .reset_index(name='avg_price_usd')\n",
    "                  )\n",
    "price_to_damage['avg_price_usd'] = price_to_damage['avg_price_usd'].round()\n",
    "price_to_damage"
   ]
  },
  {
   "cell_type": "markdown",
   "metadata": {},
   "source": [
    "#### Observation\n",
    "\n",
    "- *There is a huge variation in price between this two groups. We can safely say that, on average, cars in good condition are **2.5 times** more expensive than those with unrepaired damages.*\n",
    "\n",
    "Now that we have established that unrepaired_damage has a significant effect on price, we can go further to explore the reason for the **shocking low prices observed for the lowest mileage cars (5,000 - 10,000km)**:\n",
    "\n",
    "### Were the Lowest Mileage Cars Affected By Some Sort of Early Damage?\n",
    "\n",
    "To conduct this investigation, we need two columns from our cleaned Dataframe (`odometer_km` and `unrepaired_damage`). We will perform our analysis in four steps:\n",
    "\n",
    "1. We will collect the two columns into a seperate dataframe.\n",
    "\n",
    "2. We will use the `translate_column` function to map odometer_km to the respective mileage intervals.\n",
    "\n",
    "3. We will remove the null values from unrepaired damage and map the column to dummy variables: 1 for 'yes', 0 for 'no'.\n",
    "\n",
    "4. Finally, we will use the `.groupby()` method to compute the damaged cars ratio. This ratio represents the weight of unrepaired_damage to the number of cars in each mileage interval (we can do this by calculating the mean unrepaired damage).\n",
    "\n",
    "Lets take this steps one after the other:\n",
    "\n",
    "#### 1. Collect the required columns into a seperate dataframe"
   ]
  },
  {
   "cell_type": "code",
   "execution_count": 46,
   "metadata": {},
   "outputs": [],
   "source": [
    "working_df = autos[['odometer_km', 'unrepaired_damage']]"
   ]
  },
  {
   "cell_type": "markdown",
   "metadata": {},
   "source": [
    "#### 2. Map the Odometer column to the respective mileage intervals"
   ]
  },
  {
   "cell_type": "code",
   "execution_count": 47,
   "metadata": {},
   "outputs": [],
   "source": [
    "translate_column(working_df,'odometer_km',odometer_groups)"
   ]
  },
  {
   "cell_type": "markdown",
   "metadata": {},
   "source": [
    "#### 3. Remove the null values from unrepaired damage and map the column to dummy variables 1 and 0"
   ]
  },
  {
   "cell_type": "code",
   "execution_count": 48,
   "metadata": {},
   "outputs": [],
   "source": [
    "working_df.dropna(axis=0, inplace=True)\n",
    "\n",
    "translate_column(working_df,'unrepaired_damage',{'yes':1,'no':0})"
   ]
  },
  {
   "cell_type": "markdown",
   "metadata": {},
   "source": [
    "#### 4. Compute the average value of unrepaired_damage to number of cars in each mileage interval"
   ]
  },
  {
   "cell_type": "code",
   "execution_count": 49,
   "metadata": {},
   "outputs": [
    {
     "data": {
      "text/html": [
       "<div>\n",
       "<style scoped>\n",
       "    .dataframe tbody tr th:only-of-type {\n",
       "        vertical-align: middle;\n",
       "    }\n",
       "\n",
       "    .dataframe tbody tr th {\n",
       "        vertical-align: top;\n",
       "    }\n",
       "\n",
       "    .dataframe thead th {\n",
       "        text-align: right;\n",
       "    }\n",
       "</style>\n",
       "<table border=\"1\" class=\"dataframe\">\n",
       "  <thead>\n",
       "    <tr style=\"text-align: right;\">\n",
       "      <th></th>\n",
       "      <th>odometer_km</th>\n",
       "      <th>dmg_cars_ratio</th>\n",
       "    </tr>\n",
       "  </thead>\n",
       "  <tbody>\n",
       "    <tr>\n",
       "      <th>4</th>\n",
       "      <td>5000km - 10000km</td>\n",
       "      <td>0.212</td>\n",
       "    </tr>\n",
       "    <tr>\n",
       "      <th>1</th>\n",
       "      <td>150000km or more</td>\n",
       "      <td>0.150</td>\n",
       "    </tr>\n",
       "    <tr>\n",
       "      <th>0</th>\n",
       "      <td>100000km - 125000km</td>\n",
       "      <td>0.095</td>\n",
       "    </tr>\n",
       "    <tr>\n",
       "      <th>6</th>\n",
       "      <td>80000km - 90000km</td>\n",
       "      <td>0.081</td>\n",
       "    </tr>\n",
       "    <tr>\n",
       "      <th>5</th>\n",
       "      <td>60000km - 70000km</td>\n",
       "      <td>0.068</td>\n",
       "    </tr>\n",
       "    <tr>\n",
       "      <th>2</th>\n",
       "      <td>20000km - 30000km</td>\n",
       "      <td>0.062</td>\n",
       "    </tr>\n",
       "    <tr>\n",
       "      <th>3</th>\n",
       "      <td>40000km - 50000km</td>\n",
       "      <td>0.053</td>\n",
       "    </tr>\n",
       "  </tbody>\n",
       "</table>\n",
       "</div>"
      ],
      "text/plain": [
       "           odometer_km  dmg_cars_ratio\n",
       "4     5000km - 10000km           0.212\n",
       "1     150000km or more           0.150\n",
       "0  100000km - 125000km           0.095\n",
       "6    80000km - 90000km           0.081\n",
       "5    60000km - 70000km           0.068\n",
       "2    20000km - 30000km           0.062\n",
       "3    40000km - 50000km           0.053"
      ]
     },
     "execution_count": 49,
     "metadata": {},
     "output_type": "execute_result"
    }
   ],
   "source": [
    "grouped_df = (working_df.groupby('odometer_km')['unrepaired_damage'].mean()\n",
    "                 .reset_index(name='dmg_cars_ratio')\n",
    "             )\n",
    "\n",
    "grouped_df['dmg_cars_ratio'] = grouped_df['dmg_cars_ratio'].round(3)\n",
    "grouped_df.sort_values(by='dmg_cars_ratio', ascending=False, axis=0, inplace=True)\n",
    "grouped_df"
   ]
  },
  {
   "cell_type": "markdown",
   "metadata": {},
   "source": [
    "#### Observations\n",
    "- *It is evident that the prices for the low mileage cars were affected by the significant cases of unrepaired damage within the group. This further confirms our suspicions that some of the low mileage vehicles were new vehicles that may have been damaged within a short duration of purchase*\n",
    "\n",
    "There are some additional insights in the table above. However, before making further observations, we will merge our `avg_price_usd` from the previous `price_by_mileage` dataframe into our new dataframe to obtain a more robust picture:"
   ]
  },
  {
   "cell_type": "code",
   "execution_count": 52,
   "metadata": {},
   "outputs": [
    {
     "data": {
      "text/html": [
       "<div>\n",
       "<style scoped>\n",
       "    .dataframe tbody tr th:only-of-type {\n",
       "        vertical-align: middle;\n",
       "    }\n",
       "\n",
       "    .dataframe tbody tr th {\n",
       "        vertical-align: top;\n",
       "    }\n",
       "\n",
       "    .dataframe thead th {\n",
       "        text-align: right;\n",
       "    }\n",
       "</style>\n",
       "<table border=\"1\" class=\"dataframe\">\n",
       "  <thead>\n",
       "    <tr style=\"text-align: right;\">\n",
       "      <th></th>\n",
       "      <th>odometer_km</th>\n",
       "      <th>dmg_cars_ratio</th>\n",
       "      <th>avg_price_usd</th>\n",
       "    </tr>\n",
       "  </thead>\n",
       "  <tbody>\n",
       "    <tr>\n",
       "      <th>4</th>\n",
       "      <td>5000km - 10000km</td>\n",
       "      <td>0.212</td>\n",
       "      <td>3592.0</td>\n",
       "    </tr>\n",
       "    <tr>\n",
       "      <th>1</th>\n",
       "      <td>150000km or more</td>\n",
       "      <td>0.150</td>\n",
       "      <td>3298.0</td>\n",
       "    </tr>\n",
       "    <tr>\n",
       "      <th>0</th>\n",
       "      <td>100000km - 125000km</td>\n",
       "      <td>0.095</td>\n",
       "      <td>5068.0</td>\n",
       "    </tr>\n",
       "    <tr>\n",
       "      <th>6</th>\n",
       "      <td>80000km - 90000km</td>\n",
       "      <td>0.081</td>\n",
       "      <td>6224.0</td>\n",
       "    </tr>\n",
       "    <tr>\n",
       "      <th>5</th>\n",
       "      <td>60000km - 70000km</td>\n",
       "      <td>0.068</td>\n",
       "      <td>7148.0</td>\n",
       "    </tr>\n",
       "    <tr>\n",
       "      <th>2</th>\n",
       "      <td>20000km - 30000km</td>\n",
       "      <td>0.062</td>\n",
       "      <td>7861.0</td>\n",
       "    </tr>\n",
       "    <tr>\n",
       "      <th>3</th>\n",
       "      <td>40000km - 50000km</td>\n",
       "      <td>0.053</td>\n",
       "      <td>8109.0</td>\n",
       "    </tr>\n",
       "  </tbody>\n",
       "</table>\n",
       "</div>"
      ],
      "text/plain": [
       "           odometer_km  dmg_cars_ratio  avg_price_usd\n",
       "4     5000km - 10000km           0.212         3592.0\n",
       "1     150000km or more           0.150         3298.0\n",
       "0  100000km - 125000km           0.095         5068.0\n",
       "6    80000km - 90000km           0.081         6224.0\n",
       "5    60000km - 70000km           0.068         7148.0\n",
       "2    20000km - 30000km           0.062         7861.0\n",
       "3    40000km - 50000km           0.053         8109.0"
      ]
     },
     "execution_count": 52,
     "metadata": {},
     "output_type": "execute_result"
    }
   ],
   "source": [
    "grouped_df['avg_price_usd'] = price_by_mileage['avg_price_usd']\n",
    "grouped_df"
   ]
  },
  {
   "cell_type": "markdown",
   "metadata": {},
   "source": [
    "#### Observations\n",
    "\n",
    "- *The price trend we noticed before can be better explained when considering unrepaired damage. Here we see the best-priced cars having the lowest weight of unrepaired damage, while the poorly priced vehicles have a higher occurrence of damages within their group.*\n",
    "\n",
    "- *The degree of usefulness of unrepaired damage when compared to odometer readings for price evaluation is contrary to what we initially thought. We had expected newer vehicles to have lesser mileages and better prices overall.*\n",
    "\n",
    "- *However, it turns out that prices will rise or drop, as the weight of unrepaired damage reduces or increases respectively (inverse correlation). This could even occur irrespective of how impressive a car's mileage is.*"
   ]
  }
 ],
 "metadata": {
  "kernelspec": {
   "display_name": "Python 3 (ipykernel)",
   "language": "python",
   "name": "python3"
  },
  "language_info": {
   "codemirror_mode": {
    "name": "ipython",
    "version": 3
   },
   "file_extension": ".py",
   "mimetype": "text/x-python",
   "name": "python",
   "nbconvert_exporter": "python",
   "pygments_lexer": "ipython3",
   "version": "3.9.7"
  }
 },
 "nbformat": 4,
 "nbformat_minor": 2
}
